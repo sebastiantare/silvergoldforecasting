{
 "cells": [
  {
   "cell_type": "code",
   "execution_count": 1,
   "metadata": {},
   "outputs": [],
   "source": [
    "import pandas as pd\n",
    "import matplotlib.pyplot as plt\n",
    "import plotly.express as px\n",
    "import time\n",
    "from fredapi import Fred\n",
    "\n",
    "plt.style.use('fivethirtyeight')\n",
    "pd.set_option(\"display.max_columns\", 500)\n",
    "color_pal = plt.rcParams[\"axes.prop_cycle\"].by_key()[\"color\"]\n",
    "fred_key = \"\"\n",
    "\n",
    "with open('./.apikey', 'r') as file:\n",
    "    fred_key = file.readline()\n",
    "fred = Fred(api_key=fred_key)"
   ]
  },
  {
   "cell_type": "code",
   "execution_count": 2,
   "metadata": {},
   "outputs": [
    {
     "data": {
      "text/html": [
       "<div>\n",
       "<style scoped>\n",
       "    .dataframe tbody tr th:only-of-type {\n",
       "        vertical-align: middle;\n",
       "    }\n",
       "\n",
       "    .dataframe tbody tr th {\n",
       "        vertical-align: top;\n",
       "    }\n",
       "\n",
       "    .dataframe thead th {\n",
       "        text-align: right;\n",
       "    }\n",
       "</style>\n",
       "<table border=\"1\" class=\"dataframe\">\n",
       "  <thead>\n",
       "    <tr style=\"text-align: right;\">\n",
       "      <th></th>\n",
       "      <th>id</th>\n",
       "      <th>realtime_start</th>\n",
       "      <th>realtime_end</th>\n",
       "      <th>title</th>\n",
       "      <th>observation_start</th>\n",
       "      <th>observation_end</th>\n",
       "      <th>frequency</th>\n",
       "      <th>frequency_short</th>\n",
       "      <th>units</th>\n",
       "      <th>units_short</th>\n",
       "      <th>seasonal_adjustment</th>\n",
       "      <th>seasonal_adjustment_short</th>\n",
       "      <th>last_updated</th>\n",
       "      <th>popularity</th>\n",
       "      <th>notes</th>\n",
       "    </tr>\n",
       "    <tr>\n",
       "      <th>series id</th>\n",
       "      <th></th>\n",
       "      <th></th>\n",
       "      <th></th>\n",
       "      <th></th>\n",
       "      <th></th>\n",
       "      <th></th>\n",
       "      <th></th>\n",
       "      <th></th>\n",
       "      <th></th>\n",
       "      <th></th>\n",
       "      <th></th>\n",
       "      <th></th>\n",
       "      <th></th>\n",
       "      <th></th>\n",
       "      <th></th>\n",
       "    </tr>\n",
       "  </thead>\n",
       "  <tbody>\n",
       "    <tr>\n",
       "      <th>CPIAUCSL</th>\n",
       "      <td>CPIAUCSL</td>\n",
       "      <td>2023-11-09</td>\n",
       "      <td>2023-11-09</td>\n",
       "      <td>Consumer Price Index for All Urban Consumers: ...</td>\n",
       "      <td>1947-01-01</td>\n",
       "      <td>2023-09-01</td>\n",
       "      <td>Monthly</td>\n",
       "      <td>M</td>\n",
       "      <td>Index 1982-1984=100</td>\n",
       "      <td>Index 1982-1984=100</td>\n",
       "      <td>Seasonally Adjusted</td>\n",
       "      <td>SA</td>\n",
       "      <td>2023-10-12 07:40:02-05:00</td>\n",
       "      <td>93</td>\n",
       "      <td>The Consumer Price Index for All Urban Consume...</td>\n",
       "    </tr>\n",
       "    <tr>\n",
       "      <th>RRSFS</th>\n",
       "      <td>RRSFS</td>\n",
       "      <td>2023-11-09</td>\n",
       "      <td>2023-11-09</td>\n",
       "      <td>Advance Real Retail and Food Services Sales</td>\n",
       "      <td>1992-01-01</td>\n",
       "      <td>2023-09-01</td>\n",
       "      <td>Monthly</td>\n",
       "      <td>M</td>\n",
       "      <td>Millions of 1982-84 CPI Adjusted Dollars</td>\n",
       "      <td>Mil. of 1982-84 CPI Adjusted $</td>\n",
       "      <td>Seasonally Adjusted</td>\n",
       "      <td>SA</td>\n",
       "      <td>2023-10-17 07:39:01-05:00</td>\n",
       "      <td>60</td>\n",
       "      <td>The data in this series are calculated using t...</td>\n",
       "    </tr>\n",
       "    <tr>\n",
       "      <th>MZMREAL</th>\n",
       "      <td>MZMREAL</td>\n",
       "      <td>2023-11-09</td>\n",
       "      <td>2023-11-09</td>\n",
       "      <td>Real MZM Money Stock (DISCONTINUED)</td>\n",
       "      <td>1959-01-01</td>\n",
       "      <td>2021-01-01</td>\n",
       "      <td>Monthly</td>\n",
       "      <td>M</td>\n",
       "      <td>Billions of 1982-84 Dollars</td>\n",
       "      <td>Bil. of 1982-84 $</td>\n",
       "      <td>Seasonally Adjusted</td>\n",
       "      <td>SA</td>\n",
       "      <td>2023-07-26 16:05:01-05:00</td>\n",
       "      <td>2</td>\n",
       "      <td>This series has been discontinued and will no ...</td>\n",
       "    </tr>\n",
       "    <tr>\n",
       "      <th>AMBSLREAL</th>\n",
       "      <td>AMBSLREAL</td>\n",
       "      <td>2023-11-09</td>\n",
       "      <td>2023-11-09</td>\n",
       "      <td>Real St. Louis Adjusted Monetary Base (DISCONT...</td>\n",
       "      <td>1947-01-01</td>\n",
       "      <td>2019-11-01</td>\n",
       "      <td>Monthly</td>\n",
       "      <td>M</td>\n",
       "      <td>Billions of 1982-84 Dollars</td>\n",
       "      <td>Bil. of 1982-84 $</td>\n",
       "      <td>Seasonally Adjusted</td>\n",
       "      <td>SA</td>\n",
       "      <td>2020-03-11 13:03:01-05:00</td>\n",
       "      <td>1</td>\n",
       "      <td>This series deflates St. Louis Adjusted Moneta...</td>\n",
       "    </tr>\n",
       "  </tbody>\n",
       "</table>\n",
       "</div>"
      ],
      "text/plain": [
       "                  id realtime_start realtime_end  \\\n",
       "series id                                          \n",
       "CPIAUCSL    CPIAUCSL     2023-11-09   2023-11-09   \n",
       "RRSFS          RRSFS     2023-11-09   2023-11-09   \n",
       "MZMREAL      MZMREAL     2023-11-09   2023-11-09   \n",
       "AMBSLREAL  AMBSLREAL     2023-11-09   2023-11-09   \n",
       "\n",
       "                                                       title  \\\n",
       "series id                                                      \n",
       "CPIAUCSL   Consumer Price Index for All Urban Consumers: ...   \n",
       "RRSFS            Advance Real Retail and Food Services Sales   \n",
       "MZMREAL                  Real MZM Money Stock (DISCONTINUED)   \n",
       "AMBSLREAL  Real St. Louis Adjusted Monetary Base (DISCONT...   \n",
       "\n",
       "          observation_start observation_end frequency frequency_short  \\\n",
       "series id                                                               \n",
       "CPIAUCSL         1947-01-01      2023-09-01   Monthly               M   \n",
       "RRSFS            1992-01-01      2023-09-01   Monthly               M   \n",
       "MZMREAL          1959-01-01      2021-01-01   Monthly               M   \n",
       "AMBSLREAL        1947-01-01      2019-11-01   Monthly               M   \n",
       "\n",
       "                                              units  \\\n",
       "series id                                             \n",
       "CPIAUCSL                        Index 1982-1984=100   \n",
       "RRSFS      Millions of 1982-84 CPI Adjusted Dollars   \n",
       "MZMREAL                 Billions of 1982-84 Dollars   \n",
       "AMBSLREAL               Billions of 1982-84 Dollars   \n",
       "\n",
       "                              units_short  seasonal_adjustment  \\\n",
       "series id                                                        \n",
       "CPIAUCSL              Index 1982-1984=100  Seasonally Adjusted   \n",
       "RRSFS      Mil. of 1982-84 CPI Adjusted $  Seasonally Adjusted   \n",
       "MZMREAL                 Bil. of 1982-84 $  Seasonally Adjusted   \n",
       "AMBSLREAL               Bil. of 1982-84 $  Seasonally Adjusted   \n",
       "\n",
       "          seasonal_adjustment_short              last_updated popularity  \\\n",
       "series id                                                                  \n",
       "CPIAUCSL                         SA 2023-10-12 07:40:02-05:00         93   \n",
       "RRSFS                            SA 2023-10-17 07:39:01-05:00         60   \n",
       "MZMREAL                          SA 2023-07-26 16:05:01-05:00          2   \n",
       "AMBSLREAL                        SA 2020-03-11 13:03:01-05:00          1   \n",
       "\n",
       "                                                       notes  \n",
       "series id                                                     \n",
       "CPIAUCSL   The Consumer Price Index for All Urban Consume...  \n",
       "RRSFS      The data in this series are calculated using t...  \n",
       "MZMREAL    This series has been discontinued and will no ...  \n",
       "AMBSLREAL  This series deflates St. Louis Adjusted Moneta...  "
      ]
     },
     "execution_count": 2,
     "metadata": {},
     "output_type": "execute_result"
    }
   ],
   "source": [
    "cpi = fred.search('CPIAUCSL', order_by='popularity')\n",
    "cpi"
   ]
  },
  {
   "cell_type": "code",
   "execution_count": 5,
   "metadata": {},
   "outputs": [
    {
     "data": {
      "text/plain": [
       "'2013-1'"
      ]
     },
     "execution_count": 5,
     "metadata": {},
     "output_type": "execute_result"
    }
   ],
   "source": [
    "from datetime import datetime\n",
    "now = datetime.now()\n",
    "lastmonthdate = f\"{now.year-10}-{1}\"\n",
    "lastmonthdate"
   ]
  },
  {
   "cell_type": "code",
   "execution_count": 6,
   "metadata": {},
   "outputs": [],
   "source": [
    "cpi_series = fred.get_series(series_id='CPIAUCSL', observation_start=lastmonthdate)"
   ]
  },
  {
   "cell_type": "code",
   "execution_count": 9,
   "metadata": {},
   "outputs": [
    {
     "data": {
      "text/html": [
       "<div>\n",
       "<style scoped>\n",
       "    .dataframe tbody tr th:only-of-type {\n",
       "        vertical-align: middle;\n",
       "    }\n",
       "\n",
       "    .dataframe tbody tr th {\n",
       "        vertical-align: top;\n",
       "    }\n",
       "\n",
       "    .dataframe thead th {\n",
       "        text-align: right;\n",
       "    }\n",
       "</style>\n",
       "<table border=\"1\" class=\"dataframe\">\n",
       "  <thead>\n",
       "    <tr style=\"text-align: right;\">\n",
       "      <th></th>\n",
       "      <th>Date</th>\n",
       "      <th>Value</th>\n",
       "    </tr>\n",
       "  </thead>\n",
       "  <tbody>\n",
       "    <tr>\n",
       "      <th>0</th>\n",
       "      <td>2013-01-01</td>\n",
       "      <td>231.679</td>\n",
       "    </tr>\n",
       "    <tr>\n",
       "      <th>1</th>\n",
       "      <td>2013-02-01</td>\n",
       "      <td>232.937</td>\n",
       "    </tr>\n",
       "    <tr>\n",
       "      <th>2</th>\n",
       "      <td>2013-03-01</td>\n",
       "      <td>232.282</td>\n",
       "    </tr>\n",
       "    <tr>\n",
       "      <th>3</th>\n",
       "      <td>2013-04-01</td>\n",
       "      <td>231.797</td>\n",
       "    </tr>\n",
       "    <tr>\n",
       "      <th>4</th>\n",
       "      <td>2013-05-01</td>\n",
       "      <td>231.893</td>\n",
       "    </tr>\n",
       "    <tr>\n",
       "      <th>...</th>\n",
       "      <td>...</td>\n",
       "      <td>...</td>\n",
       "    </tr>\n",
       "    <tr>\n",
       "      <th>124</th>\n",
       "      <td>2023-05-01</td>\n",
       "      <td>303.294</td>\n",
       "    </tr>\n",
       "    <tr>\n",
       "      <th>125</th>\n",
       "      <td>2023-06-01</td>\n",
       "      <td>303.841</td>\n",
       "    </tr>\n",
       "    <tr>\n",
       "      <th>126</th>\n",
       "      <td>2023-07-01</td>\n",
       "      <td>304.348</td>\n",
       "    </tr>\n",
       "    <tr>\n",
       "      <th>127</th>\n",
       "      <td>2023-08-01</td>\n",
       "      <td>306.269</td>\n",
       "    </tr>\n",
       "    <tr>\n",
       "      <th>128</th>\n",
       "      <td>2023-09-01</td>\n",
       "      <td>307.481</td>\n",
       "    </tr>\n",
       "  </tbody>\n",
       "</table>\n",
       "<p>129 rows × 2 columns</p>\n",
       "</div>"
      ],
      "text/plain": [
       "          Date    Value\n",
       "0   2013-01-01  231.679\n",
       "1   2013-02-01  232.937\n",
       "2   2013-03-01  232.282\n",
       "3   2013-04-01  231.797\n",
       "4   2013-05-01  231.893\n",
       "..         ...      ...\n",
       "124 2023-05-01  303.294\n",
       "125 2023-06-01  303.841\n",
       "126 2023-07-01  304.348\n",
       "127 2023-08-01  306.269\n",
       "128 2023-09-01  307.481\n",
       "\n",
       "[129 rows x 2 columns]"
      ]
     },
     "execution_count": 9,
     "metadata": {},
     "output_type": "execute_result"
    }
   ],
   "source": [
    "df_cpi = cpi_series.reset_index()\n",
    "df_cpi.columns = ['Date', 'Value']\n",
    "df_cpi"
   ]
  },
  {
   "cell_type": "code",
   "execution_count": 50,
   "metadata": {},
   "outputs": [
    {
     "data": {
      "image/png": "[encoded data removed]",
      "text/plain": [
       "<Figure size 640x480 with 1 Axes>"
      ]
     },
     "metadata": {},
     "output_type": "display_data"
    }
   ],
   "source": [
    "cpi_series.plot();"
   ]
  },
  {
   "cell_type": "code",
   "execution_count": 52,
   "metadata": {},
   "outputs": [],
   "source": [
    "diff_series = cpi_series.diff()"
   ]
  },
  {
   "cell_type": "code",
   "execution_count": 53,
   "metadata": {},
   "outputs": [
    {
     "data": {
      "text/plain": [
       "<AxesSubplot: >"
      ]
     },
     "execution_count": 53,
     "metadata": {},
     "output_type": "execute_result"
    },
    {
     "data": {
      "image/png": "[encoded data removed]",
      "text/plain": [
       "<Figure size 640x480 with 1 Axes>"
      ]
     },
     "metadata": {},
     "output_type": "display_data"
    }
   ],
   "source": [
    "diff_series.plot()"
   ]
  },
  {
   "cell_type": "code",
   "execution_count": 1,
   "metadata": {},
   "outputs": [
    {
     "name": "stderr",
     "output_type": "stream",
     "text": [
      "Fetching data: 100%|██████████| 5/5 [00:05<00:00,  1.14s/it]\n"
     ]
    }
   ],
   "source": [
    "import yfinance as yf\n",
    "import pandas as pd\n",
    "from tqdm import tqdm\n",
    "import datetime\n",
    "import os\n",
    "\n",
    "\"\"\"\n",
    "    \"CL=F\": \"Crude Oil\",\n",
    "    \"HO=F\": \"Heating Oil\",\n",
    "    \"NG=F\": \"Natural Gas\",\n",
    "    \"RB=F\": \"RBOB Gasoline\",\n",
    "    \"BZ=F\": \"Brent Crude Oil\",\n",
    "\"\"\"\n",
    "\n",
    "tickers_names = { \n",
    "                  \"GC=F\": \"Gold\",\n",
    "                  \"SI=F\": \"Silver\",\n",
    "                  \"HG=F\": \"Copper\",\n",
    "                  \"PA=F\": \"Palladium\",\n",
    "                  \"PL=F\": \"Platinum\"\n",
    "                  }\n",
    "\n",
    "# 1. Function to fetch data for a given ticker symbol and commodity name\n",
    "def fetch_data(ticker_symbol, commodity_name):\n",
    "    ticker = yf.Ticker(ticker_symbol)\n",
    "    today = datetime.date.today().strftime('%Y-%m-%d')\n",
    "    data = ticker.history(start=\"2013-01-01\", end=today)\n",
    "    data.reset_index(inplace=True)\n",
    "    \n",
    "    # Check if the 'Date' column is of datetime type\n",
    "    if pd.api.types.is_datetime64_any_dtype(data['Date']):\n",
    "        data['Date'] = data['Date'].dt.strftime('%Y-%m-%d')\n",
    "    \n",
    "    # Drop the unnecessary columns\n",
    "    data.drop(columns=['Dividends', 'Stock Splits', 'Adj Close'], inplace=True, errors='ignore')\n",
    "    \n",
    "    data['ticker'] = ticker_symbol  \n",
    "    data['commodity'] = commodity_name  \n",
    "    \n",
    "    # Convert other column names to lowercase\n",
    "    data.columns = [col.lower() for col in data.columns]\n",
    "    \n",
    "    # Reorder columns to have 'ticker' and 'commodity' at the beginning\n",
    "    data = data[['ticker', 'commodity'] + [col for col in data.columns if col not in ['ticker', 'commodity']]]\n",
    "    \n",
    "    return data\n",
    "\n",
    "\n",
    "# 2. Loop over each symbol and append data to the master DataFrame\n",
    "all_data = []\n",
    "for symbol, name in tqdm(tickers_names.items(), desc=\"Fetching data\"):  # tqdm progress bar!\n",
    "    all_data.append(fetch_data(symbol, name))\n",
    "\n",
    "# Concatenate all the individual datasets into one\n",
    "master_data = pd.concat(all_data, ignore_index=True)"
   ]
  },
  {
   "cell_type": "code",
   "execution_count": 2,
   "metadata": {},
   "outputs": [
    {
     "name": "stdout",
     "output_type": "stream",
     "text": [
      "<class 'pandas.core.frame.DataFrame'>\n",
      "RangeIndex: 13613 entries, 0 to 13612\n",
      "Data columns (total 8 columns):\n",
      " #   Column     Non-Null Count  Dtype  \n",
      "---  ------     --------------  -----  \n",
      " 0   ticker     13613 non-null  object \n",
      " 1   commodity  13613 non-null  object \n",
      " 2   date       13613 non-null  object \n",
      " 3   open       13613 non-null  float64\n",
      " 4   high       13613 non-null  float64\n",
      " 5   low        13613 non-null  float64\n",
      " 6   close      13613 non-null  float64\n",
      " 7   volume     13613 non-null  int64  \n",
      "dtypes: float64(4), int64(1), object(3)\n",
      "memory usage: 850.9+ KB\n"
     ]
    }
   ],
   "source": [
    "master_data.info()"
   ]
  },
  {
   "cell_type": "code",
   "execution_count": 3,
   "metadata": {},
   "outputs": [
    {
     "name": "stderr",
     "output_type": "stream",
     "text": [
      "Saving individual datasets: 100%|██████████| 5/5 [00:03<00:00,  1.43it/s]\n"
     ]
    }
   ],
   "source": [
    "# 1. Save the master DataFrame as a CSV\n",
    "master_data.to_csv('all_metals_data.csv', index=False)\n",
    "\n",
    "# 2. Save individual CSVs for each index\n",
    "\n",
    "# Create a directory in the output to store individual datasets\n",
    "output_dir = 'individual_data'\n",
    "if not os.path.exists(output_dir):\n",
    "    os.mkdir(output_dir)\n",
    "\n",
    "for symbol, name in tqdm(tickers_names.items(), desc=\"Saving individual datasets\"):  # tqdm progress bar!\n",
    "    single_data = fetch_data(symbol, name)\n",
    "    # Drop the 'ticker' and 'commodity' columns if they exist\n",
    "    if 'ticker' in single_data.columns:\n",
    "        single_data.drop('ticker', axis=1, inplace=True)\n",
    "    if 'commodity' in single_data.columns:\n",
    "        single_data.drop('commodity', axis=1, inplace=True)\n",
    "    \n",
    "    # Use the commodity name for the filename, replacing any special characters\n",
    "    safe_name = name.replace(\" \", \"_\").replace(\"/\", \"_\").replace(\"\\\\\", \"_\")\n",
    "    \n",
    "    single_data.to_csv(f'{output_dir}/{safe_name}_data.csv', index=False)"
   ]
  }
 ],
 "metadata": {
  "kernelspec": {
   "display_name": "ds",
   "language": "python",
   "name": "python3"
  },
  "language_info": {
   "codemirror_mode": {
    "name": "ipython",
    "version": 3
   },
   "file_extension": ".py",
   "mimetype": "text/x-python",
   "name": "python",
   "nbconvert_exporter": "python",
   "pygments_lexer": "ipython3",
   "version": "3.10.13"
  },
  "orig_nbformat": 4
 },
 "nbformat": 4,
 "nbformat_minor": 2
}
