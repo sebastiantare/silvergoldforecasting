{
 "cells": [
  {
   "cell_type": "code",
   "execution_count": 4,
   "metadata": {},
   "outputs": [
    {
     "ename": "NoSuchWindowException",
     "evalue": "Message: no such window: target window already closed\nfrom unknown error: web view not found\n  (Session info: chrome=113.0.5672.92)\nStacktrace:\n#0 0x5653e9f38133 <unknown>\n#1 0x5653e9c6c966 <unknown>\n#2 0x5653e9c46cec <unknown>\n#3 0x5653e9ccdc0f <unknown>\n#4 0x5653e9ce0c2b <unknown>\n#5 0x5653e9cc89a3 <unknown>\n#6 0x5653e9c9d46a <unknown>\n#7 0x5653e9c9e55e <unknown>\n#8 0x5653e9ef7cae <unknown>\n#9 0x5653e9efb8fe <unknown>\n#10 0x5653e9f04f20 <unknown>\n#11 0x5653e9efc923 <unknown>\n#12 0x5653e9ecfc0e <unknown>\n#13 0x5653e9f1fb08 <unknown>\n#14 0x5653e9f1fc97 <unknown>\n#15 0x5653e9f30113 <unknown>\n#16 0x7f8f31294b43 <unknown>\n",
     "output_type": "error",
     "traceback": [
      "\u001b[0;31m---------------------------------------------------------------------------\u001b[0m",
      "\u001b[0;31mNoSuchWindowException\u001b[0m                     Traceback (most recent call last)",
      "Cell \u001b[0;32mIn[4], line 11\u001b[0m\n\u001b[1;32m      8\u001b[0m \u001b[39m# Open the webpage with the date range and \"Apply\" button\u001b[39;00m\n\u001b[1;32m      9\u001b[0m driver\u001b[39m.\u001b[39mget(\u001b[39m'\u001b[39m\u001b[39mhttps://www.investing.com/commodities/copper-historical-data?cid=959211\u001b[39m\u001b[39m'\u001b[39m)  \u001b[39m# Replace with your actual URL\u001b[39;00m\n\u001b[0;32m---> 11\u001b[0m driver\u001b[39m.\u001b[39;49mexecute_script(\u001b[39m\"\u001b[39;49m\u001b[39mwindow.scrollBy(0, 500);\u001b[39;49m\u001b[39m\"\u001b[39;49m)\n\u001b[1;32m     13\u001b[0m sleep(\u001b[39m1\u001b[39m)\n\u001b[1;32m     15\u001b[0m \u001b[39m# Find the date input fields by their attributes\u001b[39;00m\n",
      "File \u001b[0;32m~/anaconda3/envs/test-env/lib/python3.8/site-packages/selenium/webdriver/remote/webdriver.py:406\u001b[0m, in \u001b[0;36mWebDriver.execute_script\u001b[0;34m(self, script, *args)\u001b[0m\n\u001b[1;32m    403\u001b[0m converted_args \u001b[39m=\u001b[39m \u001b[39mlist\u001b[39m(args)\n\u001b[1;32m    404\u001b[0m command \u001b[39m=\u001b[39m Command\u001b[39m.\u001b[39mW3C_EXECUTE_SCRIPT\n\u001b[0;32m--> 406\u001b[0m \u001b[39mreturn\u001b[39;00m \u001b[39mself\u001b[39;49m\u001b[39m.\u001b[39;49mexecute(command, {\u001b[39m\"\u001b[39;49m\u001b[39mscript\u001b[39;49m\u001b[39m\"\u001b[39;49m: script, \u001b[39m\"\u001b[39;49m\u001b[39margs\u001b[39;49m\u001b[39m\"\u001b[39;49m: converted_args})[\u001b[39m\"\u001b[39m\u001b[39mvalue\u001b[39m\u001b[39m\"\u001b[39m]\n",
      "File \u001b[0;32m~/anaconda3/envs/test-env/lib/python3.8/site-packages/selenium/webdriver/remote/webdriver.py:346\u001b[0m, in \u001b[0;36mWebDriver.execute\u001b[0;34m(self, driver_command, params)\u001b[0m\n\u001b[1;32m    344\u001b[0m response \u001b[39m=\u001b[39m \u001b[39mself\u001b[39m\u001b[39m.\u001b[39mcommand_executor\u001b[39m.\u001b[39mexecute(driver_command, params)\n\u001b[1;32m    345\u001b[0m \u001b[39mif\u001b[39;00m response:\n\u001b[0;32m--> 346\u001b[0m     \u001b[39mself\u001b[39;49m\u001b[39m.\u001b[39;49merror_handler\u001b[39m.\u001b[39;49mcheck_response(response)\n\u001b[1;32m    347\u001b[0m     response[\u001b[39m\"\u001b[39m\u001b[39mvalue\u001b[39m\u001b[39m\"\u001b[39m] \u001b[39m=\u001b[39m \u001b[39mself\u001b[39m\u001b[39m.\u001b[39m_unwrap_value(response\u001b[39m.\u001b[39mget(\u001b[39m\"\u001b[39m\u001b[39mvalue\u001b[39m\u001b[39m\"\u001b[39m, \u001b[39mNone\u001b[39;00m))\n\u001b[1;32m    348\u001b[0m     \u001b[39mreturn\u001b[39;00m response\n",
      "File \u001b[0;32m~/anaconda3/envs/test-env/lib/python3.8/site-packages/selenium/webdriver/remote/errorhandler.py:245\u001b[0m, in \u001b[0;36mErrorHandler.check_response\u001b[0;34m(self, response)\u001b[0m\n\u001b[1;32m    243\u001b[0m         alert_text \u001b[39m=\u001b[39m value[\u001b[39m\"\u001b[39m\u001b[39malert\u001b[39m\u001b[39m\"\u001b[39m]\u001b[39m.\u001b[39mget(\u001b[39m\"\u001b[39m\u001b[39mtext\u001b[39m\u001b[39m\"\u001b[39m)\n\u001b[1;32m    244\u001b[0m     \u001b[39mraise\u001b[39;00m exception_class(message, screen, stacktrace, alert_text)  \u001b[39m# type: ignore[call-arg]  # mypy is not smart enough here\u001b[39;00m\n\u001b[0;32m--> 245\u001b[0m \u001b[39mraise\u001b[39;00m exception_class(message, screen, stacktrace)\n",
      "\u001b[0;31mNoSuchWindowException\u001b[0m: Message: no such window: target window already closed\nfrom unknown error: web view not found\n  (Session info: chrome=113.0.5672.92)\nStacktrace:\n#0 0x5653e9f38133 <unknown>\n#1 0x5653e9c6c966 <unknown>\n#2 0x5653e9c46cec <unknown>\n#3 0x5653e9ccdc0f <unknown>\n#4 0x5653e9ce0c2b <unknown>\n#5 0x5653e9cc89a3 <unknown>\n#6 0x5653e9c9d46a <unknown>\n#7 0x5653e9c9e55e <unknown>\n#8 0x5653e9ef7cae <unknown>\n#9 0x5653e9efb8fe <unknown>\n#10 0x5653e9f04f20 <unknown>\n#11 0x5653e9efc923 <unknown>\n#12 0x5653e9ecfc0e <unknown>\n#13 0x5653e9f1fb08 <unknown>\n#14 0x5653e9f1fc97 <unknown>\n#15 0x5653e9f30113 <unknown>\n#16 0x7f8f31294b43 <unknown>\n"
     ]
    }
   ],
   "source": [
    "from selenium import webdriver\n",
    "from selenium.webdriver.common.by import By\n",
    "from time import sleep\n",
    "\n",
    "# Initialize a WebDriver (make sure to install the appropriate web driver for your browser)\n",
    "driver = webdriver.Chrome()  # Change to your preferred browser\n",
    "\n",
    "# Open the webpage with the date range and \"Apply\" button\n",
    "driver.get('https://www.investing.com/commodities/copper-historical-data?cid=959211')  # Replace with your actual URL\n",
    "\n",
    "driver.execute_script(\"window.scrollBy(0, 500);\")\n",
    "\n",
    "sleep(1)\n",
    "\n",
    "# Find the date input fields by their attributes\n",
    "start_date_input = driver.find_element(By.XPATH, \"//input[@type='date'][@value='2023-09-17']\")\n",
    "end_date_input = driver.find_element(By.XPATH, \"//input[@type='date'][@value='2023-10-18']\")\n",
    "# Find and click the element with the specified class\n",
    "element_to_click = driver.find_element(By.XPATH, \"//div[@class='flex py-2 px-[14px] gap-[14px] flex-1 border border-solid border-[#CFD4DA] rounded bg-[#FFF] shadow-select items-center !border-[#1256A0]']\")\n",
    "element_to_click.click()\n",
    "\n",
    "sleep(1)\n",
    "\n",
    "# Clear the current date values (optional)\n",
    "start_date_input.clear()\n",
    "end_date_input.clear()\n",
    "\n",
    "# Set new date values\n",
    "start_date_input.send_keys('2023-10-01')  # Replace with the desired start date\n",
    "end_date_input.send_keys('2023-10-15')    # Replace with the desired end date\n",
    "\n",
    "# Locate and click the \"Apply\" button\n",
    "apply_button = driver.find_element(By.XPATH, \"//span[contains(text(), 'Apply')]\")\n",
    "apply_button.click()\n",
    "\n",
    "# Wait for 10 seconds to ensure the page loads completely\n",
    "sleep(10)\n",
    "\n",
    "# Find the HTML table by class name\n",
    "table = driver.find_element(By.XPATH, \"//table[@class='w-full text-xs leading-4 overflow-x-auto freeze-column-w-1']\")\n",
    "\n",
    "# Print the HTML content of the table\n",
    "print(table.get_attribute('outerHTML'))\n",
    "\n",
    "# Close the web browser\n",
    "driver.quit()"
   ]
  }
 ],
 "metadata": {
  "kernelspec": {
   "display_name": "test-env",
   "language": "python",
   "name": "python3"
  },
  "language_info": {
   "codemirror_mode": {
    "name": "ipython",
    "version": 3
   },
   "file_extension": ".py",
   "mimetype": "text/x-python",
   "name": "python",
   "nbconvert_exporter": "python",
   "pygments_lexer": "ipython3",
   "version": "3.8.16"
  },
  "orig_nbformat": 4
 },
 "nbformat": 4,
 "nbformat_minor": 2
}
