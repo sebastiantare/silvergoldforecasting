{
 "cells": [
  {
   "cell_type": "markdown",
   "id": "c2751ab0",
   "metadata": {},
   "source": [
    "# How to predict Gold and Silver prices based on other trends\n",
    "### The aim for this project, is to use historical data of minerals and indexes to try and see if it is possible to predict the daily price of gold and silver. Obviously this isn't meant to encourage people into 'trading' gold and silver, because they are long term ways to keep your money safer than in \"cash\", as Robert Kiyosaki says \"Gold and Silver are God's money\". So the objective here is to learn how we can use PyTorch to test if we can predict gold and silver prices going up because of all the money that is going to be printed."
   ]
  },
  {
   "cell_type": "code",
   "execution_count": 65,
   "id": "226f377f",
   "metadata": {},
   "outputs": [],
   "source": [
    "import torch\n",
    "import numpy as np\n",
    "from torch import nn\n",
    "import math, time\n",
    "from sklearn.metrics import mean_squared_error\n",
    "from torch.utils.data import Dataset, DataLoader\n",
    "from sklearn.datasets import make_moons\n",
    "from sklearn.model_selection import train_test_split\n",
    "from sklearn.preprocessing import MinMaxScaler\n",
    "import pandas as pd\n",
    "import matplotlib.pyplot as plt\n",
    "from sklearn.impute import SimpleImputer\n",
    "import missingno as msno\n",
    "import seaborn as sns\n",
    "import gc\n"
   ]
  },
  {
   "cell_type": "code",
   "execution_count": 66,
   "id": "7a3937f9",
   "metadata": {},
   "outputs": [],
   "source": [
    "# This data was obtained through https://www.investing.com/commodities/metals\n",
    "silver = pd.read_csv('datasets/Finance/Silver Futures Historical Data.csv')\n",
    "gold = pd.read_csv('datasets/Finance/Gold Futures Historical Data.csv')\n",
    "copper = pd.read_csv('datasets/Finance/Copper Futures Historical Data.csv')\n",
    "palladium = pd.read_csv('datasets/Finance/Palladium Futures Historical Data.csv')\n",
    "platinum = pd.read_csv('datasets/Finance/Platinum Futures Historical Data.csv')"
   ]
  },
  {
   "cell_type": "code",
   "execution_count": 67,
   "id": "6d2aa52e",
   "metadata": {},
   "outputs": [
    {
     "data": {
      "text/html": [
       "<div>\n",
       "<style scoped>\n",
       "    .dataframe tbody tr th:only-of-type {\n",
       "        vertical-align: middle;\n",
       "    }\n",
       "\n",
       "    .dataframe tbody tr th {\n",
       "        vertical-align: top;\n",
       "    }\n",
       "\n",
       "    .dataframe thead th {\n",
       "        text-align: right;\n",
       "    }\n",
       "</style>\n",
       "<table border=\"1\" class=\"dataframe\">\n",
       "  <thead>\n",
       "    <tr style=\"text-align: right;\">\n",
       "      <th></th>\n",
       "      <th>Date</th>\n",
       "      <th>Price</th>\n",
       "      <th>Open</th>\n",
       "      <th>High</th>\n",
       "      <th>Low</th>\n",
       "      <th>Vol.</th>\n",
       "      <th>Change %</th>\n",
       "    </tr>\n",
       "  </thead>\n",
       "  <tbody>\n",
       "    <tr>\n",
       "      <th>0</th>\n",
       "      <td>02/28/2023</td>\n",
       "      <td>20.878</td>\n",
       "      <td>20.723</td>\n",
       "      <td>20.942</td>\n",
       "      <td>20.508</td>\n",
       "      <td>NaN</td>\n",
       "      <td>0.75%</td>\n",
       "    </tr>\n",
       "    <tr>\n",
       "      <th>1</th>\n",
       "      <td>02/27/2023</td>\n",
       "      <td>20.723</td>\n",
       "      <td>20.872</td>\n",
       "      <td>20.930</td>\n",
       "      <td>20.642</td>\n",
       "      <td>NaN</td>\n",
       "      <td>-0.73%</td>\n",
       "    </tr>\n",
       "    <tr>\n",
       "      <th>2</th>\n",
       "      <td>02/26/2023</td>\n",
       "      <td>20.875</td>\n",
       "      <td>20.855</td>\n",
       "      <td>20.942</td>\n",
       "      <td>20.850</td>\n",
       "      <td>NaN</td>\n",
       "      <td>0.31%</td>\n",
       "    </tr>\n",
       "    <tr>\n",
       "      <th>3</th>\n",
       "      <td>02/24/2023</td>\n",
       "      <td>20.810</td>\n",
       "      <td>21.330</td>\n",
       "      <td>21.395</td>\n",
       "      <td>20.725</td>\n",
       "      <td>51.63K</td>\n",
       "      <td>-2.33%</td>\n",
       "    </tr>\n",
       "    <tr>\n",
       "      <th>4</th>\n",
       "      <td>02/23/2023</td>\n",
       "      <td>21.306</td>\n",
       "      <td>21.520</td>\n",
       "      <td>21.670</td>\n",
       "      <td>21.260</td>\n",
       "      <td>52.99K</td>\n",
       "      <td>-1.71%</td>\n",
       "    </tr>\n",
       "  </tbody>\n",
       "</table>\n",
       "</div>"
      ],
      "text/plain": [
       "         Date   Price    Open    High     Low    Vol. Change %\n",
       "0  02/28/2023  20.878  20.723  20.942  20.508     NaN    0.75%\n",
       "1  02/27/2023  20.723  20.872  20.930  20.642     NaN   -0.73%\n",
       "2  02/26/2023  20.875  20.855  20.942  20.850     NaN    0.31%\n",
       "3  02/24/2023  20.810  21.330  21.395  20.725  51.63K   -2.33%\n",
       "4  02/23/2023  21.306  21.520  21.670  21.260  52.99K   -1.71%"
      ]
     },
     "execution_count": 67,
     "metadata": {},
     "output_type": "execute_result"
    }
   ],
   "source": [
    "silver.head()"
   ]
  },
  {
   "cell_type": "code",
   "execution_count": 68,
   "id": "9793f55a",
   "metadata": {},
   "outputs": [
    {
     "data": {
      "text/html": [
       "<div>\n",
       "<style scoped>\n",
       "    .dataframe tbody tr th:only-of-type {\n",
       "        vertical-align: middle;\n",
       "    }\n",
       "\n",
       "    .dataframe tbody tr th {\n",
       "        vertical-align: top;\n",
       "    }\n",
       "\n",
       "    .dataframe thead th {\n",
       "        text-align: right;\n",
       "    }\n",
       "</style>\n",
       "<table border=\"1\" class=\"dataframe\">\n",
       "  <thead>\n",
       "    <tr style=\"text-align: right;\">\n",
       "      <th></th>\n",
       "      <th>Date</th>\n",
       "      <th>Price</th>\n",
       "      <th>Open</th>\n",
       "      <th>High</th>\n",
       "      <th>Low</th>\n",
       "      <th>Vol.</th>\n",
       "      <th>Change %</th>\n",
       "    </tr>\n",
       "  </thead>\n",
       "  <tbody>\n",
       "    <tr>\n",
       "      <th>2604</th>\n",
       "      <td>02/04/2013</td>\n",
       "      <td>1,676.40</td>\n",
       "      <td>1,669.10</td>\n",
       "      <td>1,678.60</td>\n",
       "      <td>1,661.80</td>\n",
       "      <td>112.53K</td>\n",
       "      <td>0.35%</td>\n",
       "    </tr>\n",
       "    <tr>\n",
       "      <th>2605</th>\n",
       "      <td>02/01/2013</td>\n",
       "      <td>1,670.60</td>\n",
       "      <td>1,665.20</td>\n",
       "      <td>1,683.00</td>\n",
       "      <td>1,660.60</td>\n",
       "      <td>177.05K</td>\n",
       "      <td>0.52%</td>\n",
       "    </tr>\n",
       "    <tr>\n",
       "      <th>2606</th>\n",
       "      <td>01/31/2013</td>\n",
       "      <td>1,662.00</td>\n",
       "      <td>1,677.00</td>\n",
       "      <td>1,681.70</td>\n",
       "      <td>1,658.40</td>\n",
       "      <td>159.62K</td>\n",
       "      <td>-1.17%</td>\n",
       "    </tr>\n",
       "    <tr>\n",
       "      <th>2607</th>\n",
       "      <td>01/30/2013</td>\n",
       "      <td>1,681.60</td>\n",
       "      <td>1,664.10</td>\n",
       "      <td>1,685.00</td>\n",
       "      <td>1,663.50</td>\n",
       "      <td>183.22K</td>\n",
       "      <td>1.25%</td>\n",
       "    </tr>\n",
       "    <tr>\n",
       "      <th>2608</th>\n",
       "      <td>01/29/2013</td>\n",
       "      <td>1,660.80</td>\n",
       "      <td>1,653.90</td>\n",
       "      <td>1,665.00</td>\n",
       "      <td>1,653.50</td>\n",
       "      <td>145.86K</td>\n",
       "      <td>0.48%</td>\n",
       "    </tr>\n",
       "  </tbody>\n",
       "</table>\n",
       "</div>"
      ],
      "text/plain": [
       "            Date     Price      Open      High       Low     Vol. Change %\n",
       "2604  02/04/2013  1,676.40  1,669.10  1,678.60  1,661.80  112.53K    0.35%\n",
       "2605  02/01/2013  1,670.60  1,665.20  1,683.00  1,660.60  177.05K    0.52%\n",
       "2606  01/31/2013  1,662.00  1,677.00  1,681.70  1,658.40  159.62K   -1.17%\n",
       "2607  01/30/2013  1,681.60  1,664.10  1,685.00  1,663.50  183.22K    1.25%\n",
       "2608  01/29/2013  1,660.80  1,653.90  1,665.00  1,653.50  145.86K    0.48%"
      ]
     },
     "execution_count": 68,
     "metadata": {},
     "output_type": "execute_result"
    }
   ],
   "source": [
    "gold.tail()"
   ]
  },
  {
   "cell_type": "code",
   "execution_count": 69,
   "id": "2aaba90e",
   "metadata": {
    "scrolled": true
   },
   "outputs": [
    {
     "data": {
      "text/html": [
       "<div>\n",
       "<style scoped>\n",
       "    .dataframe tbody tr th:only-of-type {\n",
       "        vertical-align: middle;\n",
       "    }\n",
       "\n",
       "    .dataframe tbody tr th {\n",
       "        vertical-align: top;\n",
       "    }\n",
       "\n",
       "    .dataframe thead th {\n",
       "        text-align: right;\n",
       "    }\n",
       "</style>\n",
       "<table border=\"1\" class=\"dataframe\">\n",
       "  <thead>\n",
       "    <tr style=\"text-align: right;\">\n",
       "      <th></th>\n",
       "      <th>Date</th>\n",
       "      <th>Price</th>\n",
       "      <th>Open</th>\n",
       "      <th>High</th>\n",
       "      <th>Low</th>\n",
       "      <th>Vol.</th>\n",
       "      <th>Change %</th>\n",
       "    </tr>\n",
       "  </thead>\n",
       "  <tbody>\n",
       "    <tr>\n",
       "      <th>2597</th>\n",
       "      <td>02/03/2013</td>\n",
       "      <td>3.7760</td>\n",
       "      <td>3.7310</td>\n",
       "      <td>3.7760</td>\n",
       "      <td>3.7310</td>\n",
       "      <td>0.11K</td>\n",
       "      <td>-0.41%</td>\n",
       "    </tr>\n",
       "    <tr>\n",
       "      <th>2598</th>\n",
       "      <td>02/01/2013</td>\n",
       "      <td>3.7915</td>\n",
       "      <td>3.7350</td>\n",
       "      <td>3.7895</td>\n",
       "      <td>3.7345</td>\n",
       "      <td>0.18K</td>\n",
       "      <td>1.39%</td>\n",
       "    </tr>\n",
       "    <tr>\n",
       "      <th>2599</th>\n",
       "      <td>01/31/2013</td>\n",
       "      <td>3.7395</td>\n",
       "      <td>3.7555</td>\n",
       "      <td>3.7755</td>\n",
       "      <td>3.7345</td>\n",
       "      <td>0.19K</td>\n",
       "      <td>-0.49%</td>\n",
       "    </tr>\n",
       "    <tr>\n",
       "      <th>2600</th>\n",
       "      <td>01/30/2013</td>\n",
       "      <td>3.7580</td>\n",
       "      <td>3.7095</td>\n",
       "      <td>3.7620</td>\n",
       "      <td>3.7080</td>\n",
       "      <td>0.44K</td>\n",
       "      <td>1.80%</td>\n",
       "    </tr>\n",
       "    <tr>\n",
       "      <th>2601</th>\n",
       "      <td>01/29/2013</td>\n",
       "      <td>3.6915</td>\n",
       "      <td>3.6585</td>\n",
       "      <td>3.6940</td>\n",
       "      <td>3.6525</td>\n",
       "      <td>49.61K</td>\n",
       "      <td>0.82%</td>\n",
       "    </tr>\n",
       "  </tbody>\n",
       "</table>\n",
       "</div>"
      ],
      "text/plain": [
       "            Date   Price    Open    High     Low    Vol. Change %\n",
       "2597  02/03/2013  3.7760  3.7310  3.7760  3.7310   0.11K   -0.41%\n",
       "2598  02/01/2013  3.7915  3.7350  3.7895  3.7345   0.18K    1.39%\n",
       "2599  01/31/2013  3.7395  3.7555  3.7755  3.7345   0.19K   -0.49%\n",
       "2600  01/30/2013  3.7580  3.7095  3.7620  3.7080   0.44K    1.80%\n",
       "2601  01/29/2013  3.6915  3.6585  3.6940  3.6525  49.61K    0.82%"
      ]
     },
     "execution_count": 69,
     "metadata": {},
     "output_type": "execute_result"
    }
   ],
   "source": [
    "copper.tail()"
   ]
  },
  {
   "cell_type": "code",
   "execution_count": 70,
   "id": "7563b888",
   "metadata": {},
   "outputs": [
    {
     "data": {
      "text/html": [
       "<div>\n",
       "<style scoped>\n",
       "    .dataframe tbody tr th:only-of-type {\n",
       "        vertical-align: middle;\n",
       "    }\n",
       "\n",
       "    .dataframe tbody tr th {\n",
       "        vertical-align: top;\n",
       "    }\n",
       "\n",
       "    .dataframe thead th {\n",
       "        text-align: right;\n",
       "    }\n",
       "</style>\n",
       "<table border=\"1\" class=\"dataframe\">\n",
       "  <thead>\n",
       "    <tr style=\"text-align: right;\">\n",
       "      <th></th>\n",
       "      <th>Date</th>\n",
       "      <th>Price</th>\n",
       "      <th>Open</th>\n",
       "      <th>High</th>\n",
       "      <th>Low</th>\n",
       "      <th>Vol.</th>\n",
       "      <th>Change %</th>\n",
       "    </tr>\n",
       "  </thead>\n",
       "  <tbody>\n",
       "    <tr>\n",
       "      <th>2863</th>\n",
       "      <td>02/04/2013</td>\n",
       "      <td>756.70</td>\n",
       "      <td>757.90</td>\n",
       "      <td>762.10</td>\n",
       "      <td>748.20</td>\n",
       "      <td>NaN</td>\n",
       "      <td>0.05%</td>\n",
       "    </tr>\n",
       "    <tr>\n",
       "      <th>2864</th>\n",
       "      <td>02/01/2013</td>\n",
       "      <td>756.30</td>\n",
       "      <td>743.70</td>\n",
       "      <td>758.50</td>\n",
       "      <td>739.80</td>\n",
       "      <td>NaN</td>\n",
       "      <td>1.68%</td>\n",
       "    </tr>\n",
       "    <tr>\n",
       "      <th>2865</th>\n",
       "      <td>01/31/2013</td>\n",
       "      <td>743.80</td>\n",
       "      <td>749.40</td>\n",
       "      <td>751.70</td>\n",
       "      <td>735.90</td>\n",
       "      <td>NaN</td>\n",
       "      <td>-0.73%</td>\n",
       "    </tr>\n",
       "    <tr>\n",
       "      <th>2866</th>\n",
       "      <td>01/30/2013</td>\n",
       "      <td>749.30</td>\n",
       "      <td>751.20</td>\n",
       "      <td>760.30</td>\n",
       "      <td>745.40</td>\n",
       "      <td>NaN</td>\n",
       "      <td>-0.24%</td>\n",
       "    </tr>\n",
       "    <tr>\n",
       "      <th>2867</th>\n",
       "      <td>01/29/2013</td>\n",
       "      <td>751.10</td>\n",
       "      <td>738.40</td>\n",
       "      <td>751.30</td>\n",
       "      <td>737.40</td>\n",
       "      <td>NaN</td>\n",
       "      <td>1.84%</td>\n",
       "    </tr>\n",
       "  </tbody>\n",
       "</table>\n",
       "</div>"
      ],
      "text/plain": [
       "            Date   Price    Open    High     Low Vol. Change %\n",
       "2863  02/04/2013  756.70  757.90  762.10  748.20  NaN    0.05%\n",
       "2864  02/01/2013  756.30  743.70  758.50  739.80  NaN    1.68%\n",
       "2865  01/31/2013  743.80  749.40  751.70  735.90  NaN   -0.73%\n",
       "2866  01/30/2013  749.30  751.20  760.30  745.40  NaN   -0.24%\n",
       "2867  01/29/2013  751.10  738.40  751.30  737.40  NaN    1.84%"
      ]
     },
     "execution_count": 70,
     "metadata": {},
     "output_type": "execute_result"
    }
   ],
   "source": [
    "palladium.tail()"
   ]
  },
  {
   "cell_type": "code",
   "execution_count": 71,
   "id": "76635d2a",
   "metadata": {},
   "outputs": [
    {
     "data": {
      "text/html": [
       "<div>\n",
       "<style scoped>\n",
       "    .dataframe tbody tr th:only-of-type {\n",
       "        vertical-align: middle;\n",
       "    }\n",
       "\n",
       "    .dataframe tbody tr th {\n",
       "        vertical-align: top;\n",
       "    }\n",
       "\n",
       "    .dataframe thead th {\n",
       "        text-align: right;\n",
       "    }\n",
       "</style>\n",
       "<table border=\"1\" class=\"dataframe\">\n",
       "  <thead>\n",
       "    <tr style=\"text-align: right;\">\n",
       "      <th></th>\n",
       "      <th>Date</th>\n",
       "      <th>Price</th>\n",
       "      <th>Open</th>\n",
       "      <th>High</th>\n",
       "      <th>Low</th>\n",
       "      <th>Vol.</th>\n",
       "      <th>Change %</th>\n",
       "    </tr>\n",
       "  </thead>\n",
       "  <tbody>\n",
       "    <tr>\n",
       "      <th>3132</th>\n",
       "      <td>02/01/2013</td>\n",
       "      <td>1,684.70</td>\n",
       "      <td>1,677.15</td>\n",
       "      <td>1,693.65</td>\n",
       "      <td>1,668.45</td>\n",
       "      <td>NaN</td>\n",
       "      <td>0.45%</td>\n",
       "    </tr>\n",
       "    <tr>\n",
       "      <th>3133</th>\n",
       "      <td>01/31/2013</td>\n",
       "      <td>1,677.10</td>\n",
       "      <td>1,688.80</td>\n",
       "      <td>1,688.80</td>\n",
       "      <td>1,667.45</td>\n",
       "      <td>NaN</td>\n",
       "      <td>-0.70%</td>\n",
       "    </tr>\n",
       "    <tr>\n",
       "      <th>3134</th>\n",
       "      <td>01/30/2013</td>\n",
       "      <td>1,688.85</td>\n",
       "      <td>1,682.35</td>\n",
       "      <td>1,693.45</td>\n",
       "      <td>1,679.15</td>\n",
       "      <td>NaN</td>\n",
       "      <td>0.39%</td>\n",
       "    </tr>\n",
       "    <tr>\n",
       "      <th>3135</th>\n",
       "      <td>01/29/2013</td>\n",
       "      <td>1,682.30</td>\n",
       "      <td>1,668.70</td>\n",
       "      <td>1,682.60</td>\n",
       "      <td>1,665.80</td>\n",
       "      <td>NaN</td>\n",
       "      <td>0.82%</td>\n",
       "    </tr>\n",
       "    <tr>\n",
       "      <th>3136</th>\n",
       "      <td>01/28/2013</td>\n",
       "      <td>1,668.65</td>\n",
       "      <td>1,693.75</td>\n",
       "      <td>1,699.25</td>\n",
       "      <td>1,659.95</td>\n",
       "      <td>NaN</td>\n",
       "      <td>-1.46%</td>\n",
       "    </tr>\n",
       "  </tbody>\n",
       "</table>\n",
       "</div>"
      ],
      "text/plain": [
       "            Date     Price      Open      High       Low Vol. Change %\n",
       "3132  02/01/2013  1,684.70  1,677.15  1,693.65  1,668.45  NaN    0.45%\n",
       "3133  01/31/2013  1,677.10  1,688.80  1,688.80  1,667.45  NaN   -0.70%\n",
       "3134  01/30/2013  1,688.85  1,682.35  1,693.45  1,679.15  NaN    0.39%\n",
       "3135  01/29/2013  1,682.30  1,668.70  1,682.60  1,665.80  NaN    0.82%\n",
       "3136  01/28/2013  1,668.65  1,693.75  1,699.25  1,659.95  NaN   -1.46%"
      ]
     },
     "execution_count": 71,
     "metadata": {},
     "output_type": "execute_result"
    }
   ],
   "source": [
    "platinum.tail()"
   ]
  },
  {
   "cell_type": "code",
   "execution_count": 72,
   "id": "2327d4dd",
   "metadata": {},
   "outputs": [
    {
     "data": {
      "text/plain": [
       "(2605, 2609, 2602, 2868, 3137)"
      ]
     },
     "execution_count": 72,
     "metadata": {},
     "output_type": "execute_result"
    }
   ],
   "source": [
    "len(silver), len(gold), len(copper), len(palladium), len(platinum)"
   ]
  },
  {
   "cell_type": "markdown",
   "id": "9725217a",
   "metadata": {},
   "source": [
    "### Data completion\n",
    "Even though data was captured in almost the same interval, there seems to be more data in some cases, or maybe there is missing data in some time intervals. So next task will be to check whats the missing data."
   ]
  },
  {
   "cell_type": "code",
   "execution_count": 73,
   "id": "6881e7d1",
   "metadata": {},
   "outputs": [
    {
     "data": {
      "text/plain": [
       "(Date         0\n",
       " Price        0\n",
       " Open         0\n",
       " High         0\n",
       " Low          0\n",
       " Vol.        29\n",
       " Change %     0\n",
       " dtype: int64,\n",
       " Date        0.000000\n",
       " Price       0.000000\n",
       " Open        0.000000\n",
       " High        0.000000\n",
       " Low         0.000000\n",
       " Vol.        1.113244\n",
       " Change %    0.000000\n",
       " dtype: float64)"
      ]
     },
     "execution_count": 73,
     "metadata": {},
     "output_type": "execute_result"
    }
   ],
   "source": [
    "# Check for null values and where they are\n",
    "silver.isnull().sum(), silver.isnull().mean()*100"
   ]
  },
  {
   "cell_type": "code",
   "execution_count": 74,
   "id": "49bf7a98",
   "metadata": {},
   "outputs": [
    {
     "data": {
      "text/plain": [
       "(Date         0\n",
       " Price        0\n",
       " Open         0\n",
       " High         0\n",
       " Low          0\n",
       " Vol.        10\n",
       " Change %     0\n",
       " dtype: int64,\n",
       " Date        0.000000\n",
       " Price       0.000000\n",
       " Open        0.000000\n",
       " High        0.000000\n",
       " Low         0.000000\n",
       " Vol.        0.383289\n",
       " Change %    0.000000\n",
       " dtype: float64)"
      ]
     },
     "execution_count": 74,
     "metadata": {},
     "output_type": "execute_result"
    }
   ],
   "source": [
    "gold.isnull().sum(), gold.isnull().mean()*100"
   ]
  },
  {
   "cell_type": "code",
   "execution_count": 75,
   "id": "ac2b2e0d",
   "metadata": {},
   "outputs": [
    {
     "data": {
      "text/plain": [
       "(Date         0\n",
       " Price        0\n",
       " Open         0\n",
       " High         0\n",
       " Low          0\n",
       " Vol.        64\n",
       " Change %     0\n",
       " dtype: int64,\n",
       " Date        0.000000\n",
       " Price       0.000000\n",
       " Open        0.000000\n",
       " High        0.000000\n",
       " Low         0.000000\n",
       " Vol.        2.459646\n",
       " Change %    0.000000\n",
       " dtype: float64)"
      ]
     },
     "execution_count": 75,
     "metadata": {},
     "output_type": "execute_result"
    }
   ],
   "source": [
    "copper.isnull().sum(), copper.isnull().mean()*100"
   ]
  },
  {
   "cell_type": "code",
   "execution_count": 76,
   "id": "b4d80caf",
   "metadata": {},
   "outputs": [
    {
     "data": {
      "text/plain": [
       "(Date           0\n",
       " Price          0\n",
       " Open           0\n",
       " High           0\n",
       " Low            0\n",
       " Vol.        1717\n",
       " Change %       0\n",
       " dtype: int64,\n",
       " Date         0.000000\n",
       " Price        0.000000\n",
       " Open         0.000000\n",
       " High         0.000000\n",
       " Low          0.000000\n",
       " Vol.        59.867503\n",
       " Change %     0.000000\n",
       " dtype: float64)"
      ]
     },
     "execution_count": 76,
     "metadata": {},
     "output_type": "execute_result"
    }
   ],
   "source": [
    "palladium.isnull().sum(), palladium.isnull().mean()*100"
   ]
  },
  {
   "cell_type": "code",
   "execution_count": 77,
   "id": "b8443d02",
   "metadata": {},
   "outputs": [
    {
     "data": {
      "text/plain": [
       "(Date           0\n",
       " Price          0\n",
       " Open           0\n",
       " High           0\n",
       " Low            0\n",
       " Vol.        2582\n",
       " Change %       0\n",
       " dtype: int64,\n",
       " Date         0.000000\n",
       " Price        0.000000\n",
       " Open         0.000000\n",
       " High         0.000000\n",
       " Low          0.000000\n",
       " Vol.        82.307938\n",
       " Change %     0.000000\n",
       " dtype: float64)"
      ]
     },
     "execution_count": 77,
     "metadata": {},
     "output_type": "execute_result"
    }
   ],
   "source": [
    "platinum.isnull().sum(), platinum.isnull().mean()*100"
   ]
  },
  {
   "cell_type": "code",
   "execution_count": 78,
   "id": "f859a72f",
   "metadata": {},
   "outputs": [
    {
     "data": {
      "text/plain": [
       "<AxesSubplot: >"
      ]
     },
     "execution_count": 78,
     "metadata": {},
     "output_type": "execute_result"
    },
    {
     "data": {
      "image/png": "[encoded data removed]",
      "text/plain": [
       "<Figure size 2500x1000 with 2 Axes>"
      ]
     },
     "metadata": {},
     "output_type": "display_data"
    }
   ],
   "source": [
    "msno.matrix(silver)"
   ]
  },
  {
   "cell_type": "code",
   "execution_count": 79,
   "id": "f3fd534b",
   "metadata": {},
   "outputs": [
    {
     "data": {
      "text/plain": [
       "<AxesSubplot: >"
      ]
     },
     "execution_count": 79,
     "metadata": {},
     "output_type": "execute_result"
    },
    {
     "data": {
      "image/png": "[encoded data removed]",
      "text/plain": [
       "<Figure size 2500x1000 with 2 Axes>"
      ]
     },
     "metadata": {},
     "output_type": "display_data"
    }
   ],
   "source": [
    " msno.matrix(gold)"
   ]
  },
  {
   "cell_type": "code",
   "execution_count": 80,
   "id": "a838ca67",
   "metadata": {},
   "outputs": [
    {
     "data": {
      "text/plain": [
       "<AxesSubplot: >"
      ]
     },
     "execution_count": 80,
     "metadata": {},
     "output_type": "execute_result"
    },
    {
     "data": {
      "image/png": "[encoded data removed]",
      "text/plain": [
       "<Figure size 2500x1000 with 2 Axes>"
      ]
     },
     "metadata": {},
     "output_type": "display_data"
    }
   ],
   "source": [
    "msno.matrix(copper)"
   ]
  },
  {
   "cell_type": "code",
   "execution_count": 81,
   "id": "22353a88",
   "metadata": {},
   "outputs": [
    {
     "data": {
      "text/plain": [
       "<AxesSubplot: >"
      ]
     },
     "execution_count": 81,
     "metadata": {},
     "output_type": "execute_result"
    },
    {
     "data": {
      "image/png": "[encoded data removed]",
      "text/plain": [
       "<Figure size 2500x1000 with 2 Axes>"
      ]
     },
     "metadata": {},
     "output_type": "display_data"
    }
   ],
   "source": [
    "msno.matrix(palladium)"
   ]
  },
  {
   "cell_type": "code",
   "execution_count": 82,
   "id": "aaa51eae",
   "metadata": {},
   "outputs": [
    {
     "data": {
      "text/plain": [
       "<AxesSubplot: >"
      ]
     },
     "execution_count": 82,
     "metadata": {},
     "output_type": "execute_result"
    },
    {
     "data": {
      "image/png": "[encoded data removed]",
      "text/plain": [
       "<Figure size 2500x1000 with 2 Axes>"
      ]
     },
     "metadata": {},
     "output_type": "display_data"
    }
   ],
   "source": [
    "msno.matrix(platinum)"
   ]
  },
  {
   "cell_type": "markdown",
   "id": "0da82b1c",
   "metadata": {},
   "source": [
    "### Checking data types"
   ]
  },
  {
   "cell_type": "code",
   "execution_count": 83,
   "id": "d2b805e8",
   "metadata": {},
   "outputs": [
    {
     "data": {
      "text/plain": [
       "(dtype('O'),\n",
       " dtype('float64'),\n",
       " dtype('float64'),\n",
       " dtype('float64'),\n",
       " dtype('float64'),\n",
       " dtype('O'),\n",
       " dtype('O'))"
      ]
     },
     "execution_count": 83,
     "metadata": {},
     "output_type": "execute_result"
    }
   ],
   "source": [
    "silver[\"Date\"].dtype, silver[\"Price\"].dtype, silver[\"Open\"].dtype, silver[\"High\"].dtype, silver[\"Low\"].dtype, silver[\"Vol.\"].dtype, silver[\"Change %\"].dtype"
   ]
  },
  {
   "cell_type": "code",
   "execution_count": 84,
   "id": "a64b9a85",
   "metadata": {},
   "outputs": [
    {
     "data": {
      "text/plain": [
       "(dtype('O'),\n",
       " dtype('O'),\n",
       " dtype('O'),\n",
       " dtype('O'),\n",
       " dtype('O'),\n",
       " dtype('O'),\n",
       " dtype('O'))"
      ]
     },
     "execution_count": 84,
     "metadata": {},
     "output_type": "execute_result"
    }
   ],
   "source": [
    "gold[\"Date\"].dtype, gold[\"Price\"].dtype, gold[\"Open\"].dtype, gold[\"High\"].dtype, gold[\"Low\"].dtype, gold[\"Vol.\"].dtype, gold[\"Change %\"].dtype"
   ]
  },
  {
   "cell_type": "code",
   "execution_count": 85,
   "id": "db4a42ca",
   "metadata": {},
   "outputs": [
    {
     "data": {
      "text/plain": [
       "(dtype('O'),\n",
       " dtype('float64'),\n",
       " dtype('float64'),\n",
       " dtype('float64'),\n",
       " dtype('float64'),\n",
       " dtype('O'),\n",
       " dtype('O'))"
      ]
     },
     "execution_count": 85,
     "metadata": {},
     "output_type": "execute_result"
    }
   ],
   "source": [
    "copper[\"Date\"].dtype, copper[\"Price\"].dtype, copper[\"Open\"].dtype, copper[\"High\"].dtype, copper[\"Low\"].dtype, copper[\"Vol.\"].dtype, copper[\"Change %\"].dtype"
   ]
  },
  {
   "cell_type": "code",
   "execution_count": null,
   "id": "aa572fa1",
   "metadata": {},
   "outputs": [],
   "source": [
    "palladium[\"Date\"].dtype, palladium[\"Price\"].dtype, palladium[\"Open\"].dtype, palladium[\"High\"].dtype, palladium[\"Low\"].dtype, palladium[\"Vol.\"].dtype, palladium[\"Change %\"].dtype"
   ]
  },
  {
   "cell_type": "code",
   "execution_count": null,
   "id": "9df43e01",
   "metadata": {},
   "outputs": [],
   "source": [
    "platinum[\"Date\"].dtype, platinum[\"Price\"].dtype, platinum[\"Open\"].dtype, platinum[\"High\"].dtype, platinum[\"Low\"].dtype, platinum[\"Vol.\"].dtype, platinum[\"Change %\"].dtype"
   ]
  },
  {
   "cell_type": "markdown",
   "id": "6e3a924b",
   "metadata": {},
   "source": [
    "### Addressing the data type problems\n",
    " * K\n",
    " * , for thousand units\n",
    " * %\n",
    " \n",
    " Data with K will be left as it is, because all is in the same format with K, excepto from the NaN values."
   ]
  },
  {
   "cell_type": "code",
   "execution_count": null,
   "id": "c0bcd280",
   "metadata": {},
   "outputs": [],
   "source": [
    "# Format values\n",
    "silver[\"Vol.\"] = silver[\"Vol.\"].str.replace('K', '').astype('float')\n",
    "silver[\"Change %\"] = silver[\"Change %\"].str.replace('%', '').astype('float')\n",
    "\n",
    "copper[\"Vol.\"] = gold[\"Vol.\"].str.replace('K', '').astype('float')\n",
    "copper[\"Change %\"] = copper[\"Change %\"].str.replace('%', '').astype('float')\n",
    "\n",
    "gold[\"Vol.\"] = gold[\"Vol.\"].str.replace('K', '').astype('float')\n",
    "gold[\"Change %\"] = gold[\"Change %\"].str.replace('%', '').astype('float')\n",
    "gold[\"Price\"] = gold[\"Price\"].str.replace(',', '').astype('float')\n",
    "gold[\"Open\"] = gold[\"Open\"].str.replace(',', '').astype('float')\n",
    "gold[\"High\"] = gold[\"High\"].str.replace(',', '').astype('float')\n",
    "gold[\"Low\"] = gold[\"Low\"].str.replace(',', '').astype('float')"
   ]
  },
  {
   "cell_type": "code",
   "execution_count": null,
   "id": "a5bae57c",
   "metadata": {},
   "outputs": [],
   "source": [
    "# Format date\n",
    "silver['Date'] = pd.to_datetime(silver['Date'], format='%m/%d/%Y')\n",
    "gold['Date'] = pd.to_datetime(gold['Date'], format='%m/%d/%Y')\n",
    "copper['Date'] = pd.to_datetime(copper['Date'], format='%m/%d/%Y')\n",
    "palladium['Date'] = pd.to_datetime(palladium['Date'], format='%m/%d/%Y')\n",
    "platinum['Date'] = pd.to_datetime(platinum['Date'], format='%m/%d/%Y')"
   ]
  },
  {
   "cell_type": "code",
   "execution_count": null,
   "id": "08fd9120",
   "metadata": {},
   "outputs": [],
   "source": [
    "# To check where are the missing values, \n",
    "# I must first create a new dataframe with the complete days for the given time interval\n",
    "date_range = pd.date_range(\n",
    "    min(silver['Date'].min(), palladium['Date'].min()), \n",
    "    max(silver['Date'].max(), palladium['Date'].max()), freq='D')\n",
    "date_df = pd.DataFrame({'Date': date_range})\n",
    "\n",
    "merged_df_silver = pd.merge(date_df, silver, how='left', on='Date')\n",
    "merged_df_gold = pd.merge(date_df, gold, how='left', on='Date')\n",
    "merged_df_copper = pd.merge(date_df, copper, how='left', on='Date')\n",
    "merged_df_palladium = pd.merge(date_df, palladium, how='left', on='Date')\n",
    "merged_df_platinum = pd.merge(date_df, platinum, how='left', on='Date')\n",
    "\n",
    "missing_dates_silver = merged_df_silver[merged_df_silver['Price'].isnull()]\n",
    "missing_dates_gold = merged_df_gold[merged_df_gold['Price'].isnull()]\n",
    "missing_dates_copper = merged_df_copper[merged_df_copper['Price'].isnull()]\n",
    "missing_dates_palladium = merged_df_palladium[merged_df_palladium['Price'].isnull()]\n",
    "missing_dates_platinum = merged_df_platinum[merged_df_platinum['Price'].isnull()]\n",
    "\n",
    "print(\"Missing values of silver\")\n",
    "print(len(missing_dates_silver))\n",
    "print(\"Missing values of gold\")\n",
    "print(len(missing_dates_gold))\n",
    "print(\"Missing values of copper\")\n",
    "print(len(missing_dates_copper))\n",
    "print(\"Missing values of palladium\")\n",
    "print(len(missing_dates_palladium))\n",
    "print(\"Missing values of platinum\")\n",
    "print(len(missing_dates_platinum))"
   ]
  },
  {
   "cell_type": "code",
   "execution_count": null,
   "id": "78662ed8",
   "metadata": {
    "scrolled": true
   },
   "outputs": [],
   "source": [
    "# Now we can see that the missing data is way more that we expected\n",
    "# The model I want to make is designed to work by a daily base, so it's easier to keep track and fix\n",
    "# So we need to fill the gaps\n",
    "# But this can be fixed by using data imputation techniques\n",
    "merged_df_silver[\"Price\"][:100].plot(title=\"Silver Price with missing days\", figsize=(20,10))"
   ]
  },
  {
   "cell_type": "markdown",
   "id": "b7256d7e",
   "metadata": {},
   "source": [
    "* But what are these missing values? They seem to be continuous, and probably is because markets close on Saturday.\n",
    "* And also, even though data was obtained in the same time range, there are different quantities of missing data, so probably there is even more reasons to that, so we can't be 100% sure.\n",
    "* So the best would be trying to complete the missing parts based on the previous and future values."
   ]
  },
  {
   "cell_type": "markdown",
   "id": "7e06332c",
   "metadata": {},
   "source": [
    "# Data imputation\n",
    "\n",
    "Source: https://github.com/Idilismiguzel/data_analysis/blob/main/missing_data/Missing_Value_Imputation.ipynb\n",
    "\n",
    "### Fillna is a method which can fill the missing data points\n",
    "https://pandas.pydata.org/docs/reference/api/pandas.DataFrame.fillna.html\n",
    "\n",
    "There are different type of fill types\n",
    "* bfill: use next valid observation to fill gap\n",
    "* ffill: propagate last valid observation forward to next valid backfill"
   ]
  },
  {
   "cell_type": "code",
   "execution_count": null,
   "id": "6dfd4e1d",
   "metadata": {
    "scrolled": false
   },
   "outputs": [],
   "source": [
    "merged_df_silver_imp = merged_df_silver[\"Price\"].fillna(method=\"ffill\")\n",
    "merged_df_silver_imp_2 = merged_df_silver[\"Price\"].fillna(method=\"bfill\")\n",
    "\n",
    "merged_df_silver_imp[:100].plot(color=\"red\", linestyle=\"dotted\", figsize=(20,10))\n",
    "merged_df_silver_imp_2[:100].plot(color=\"green\", linestyle=\"dotted\", figsize=(20,10))\n",
    "merged_df_silver[\"Price\"][:100].plot(title=\"Silver Price with missing days\", figsize=(20,10))"
   ]
  },
  {
   "cell_type": "code",
   "execution_count": null,
   "id": "9e9e8a29",
   "metadata": {
    "scrolled": false
   },
   "outputs": [],
   "source": [
    "# The problem with this is that in this scenario, one is too optimistic and the other is too pessimistic\n",
    "# So I would prefer a middle ground\n",
    "merged_df_silver_linear = merged_df_silver[\"Price\"].interpolate(method=\"linear\")\n",
    "\n",
    "merged_df_silver_linear[:100].plot(color=\"purple\", linestyle=\"dotted\", figsize=(20,10))\n",
    "merged_df_silver_imp[:100].plot(color=\"red\", linestyle=\"dotted\", figsize=(20,10))\n",
    "merged_df_silver_imp_2[:100].plot(color=\"green\", linestyle=\"dotted\", figsize=(20,10))\n",
    "merged_df_silver[\"Price\"][:100].plot(title=\"Silver Price with missing days\", figsize=(20,10))"
   ]
  },
  {
   "cell_type": "code",
   "execution_count": null,
   "id": "73aa5364",
   "metadata": {
    "scrolled": true
   },
   "outputs": [],
   "source": [
    "# New dataset (tomato) vs Old (blue)\n",
    "merged_df_silver_linear.plot(title=\"Completed Silver Price\", figsize=(20,10), color=\"tomato\")\n",
    "merged_df_silver[\"Price\"].plot(figsize=(20,10), color=\"blue\")"
   ]
  },
  {
   "cell_type": "code",
   "execution_count": null,
   "id": "7da179c6",
   "metadata": {},
   "outputs": [],
   "source": [
    "# Normalize data\n",
    "scaler = MinMaxScaler(feature_range=(-1, 1))\n",
    "scaled_data = scaler.fit_transform(merged_df_silver_linear.values.reshape(-1,1))\n",
    "scaled_data"
   ]
  },
  {
   "cell_type": "markdown",
   "id": "84463c37",
   "metadata": {},
   "source": [
    "# Shaping Data\n",
    "\n",
    "* **Time series problem**: how to predict something based on time order. We cannot just simply make a range of 0 to n, indexing every data point, because, when we train the model, we'll use the time to train the model and to predict we will use the price data. If the data is just a simple 0 to n, it will just mean that our training data is a straight line. So we have to make a function that actually relates both the date and the data. In short we want a model that we input a future date, and we output the predicted price for that specific date, or prices for a set of dates.\n"
   ]
  },
  {
   "cell_type": "code",
   "execution_count": null,
   "id": "e469df46",
   "metadata": {},
   "outputs": [],
   "source": [
    "# https://www.crosstab.io/articles/time-series-pytorch-lstm/\n",
    "class SilverDataset(Dataset):\n",
    "    def __init__(self, features, target, seq_length=7):\n",
    "        self.X = torch.tensor(features).float()\n",
    "        self.y = torch.tensor(target).float()\n",
    "        self.seq_length = seq_length\n",
    "\n",
    "    def __len__(self):\n",
    "        return len(self.X.shape[0])\n",
    "\n",
    "    def __getitem__(self, idx):\n",
    "        if idx >= self.seq_length - 1:\n",
    "            idx_start = idx - self.seq_length + 1\n",
    "            x = self.X[idx_start:(idx + 1), :]\n",
    "        else:\n",
    "            padding = self.X[0:(i + 1), :]\n",
    "            x = torch.cat((padding, x), 0)\n",
    "            \n",
    "        return x, self.y[idx]"
   ]
  },
  {
   "cell_type": "code",
   "execution_count": null,
   "id": "5da1dc78",
   "metadata": {},
   "outputs": [],
   "source": [
    "#https://github.com/RodolfoLSS/stock-prediction-pytorch/blob/master/stock-prediction-pytorch.ipynb\n",
    "#https://machinelearningmastery.com/training-a-pytorch-model-with-dataloader-and-dataset/\n",
    "\n",
    "# This method takes the n-1 values from data to make X with n = lookback, and the value number n to make the target y\n",
    "# So that basically uses [0, n-1] values with the target value at pos [n]\n",
    "def split_data(data_raw, lookback):\n",
    "    data = []\n",
    "    \n",
    "    # create all possible sequences of length seq_len\n",
    "    for index in range(len(data_raw) - lookback + 1): # I Modified this part to generate the last piece of data missing\n",
    "        data.append(data_raw[index: index + lookback])\n",
    "    \n",
    "    data = np.array(data);\n",
    "    test_set_size = int(np.round(0.32*data.shape[0]));\n",
    "    train_set_size = data.shape[0] - (test_set_size);\n",
    "    \n",
    "    x_train = data[:train_set_size,:-1,:]\n",
    "    y_train = data[:train_set_size,-1,:]\n",
    "    \n",
    "    x_test = data[train_set_size:,:-1]\n",
    "    y_test = data[train_set_size:,-1,:]\n",
    "    \n",
    "    return [x_train, y_train, x_test, y_test]"
   ]
  },
  {
   "cell_type": "code",
   "execution_count": null,
   "id": "1a90bc19",
   "metadata": {},
   "outputs": [],
   "source": [
    "def batch_data(data_raw, lookback):\n",
    "    data = []\n",
    "    # create all possible sequences of length seq_len\n",
    "    for index in range(len(data_raw) - lookback + 1): # I Modified this part to generate the last piece of data missing\n",
    "        data.append(data_raw[index: index + lookback])\n",
    "    \n",
    "    data = np.array(data);\n",
    "    test_set_size = int(np.round(0.2*data.shape[0]));\n",
    "    train_set_size = data.shape[0] - (test_set_size);\n",
    "    \n",
    "    x_ = data[:,:-1,:]\n",
    "    y_ = data[:,-1,:]\n",
    "    \n",
    "    return [x_,y_]"
   ]
  },
  {
   "cell_type": "code",
   "execution_count": null,
   "id": "24a9ad58",
   "metadata": {},
   "outputs": [],
   "source": [
    "seq_length=128"
   ]
  },
  {
   "cell_type": "code",
   "execution_count": null,
   "id": "69e38999",
   "metadata": {},
   "outputs": [],
   "source": [
    "x_silver_data, y_silver_data = batch_data(scaled_data, seq_length)\n",
    "x_silver_train, y_silver_train, x_silver_test, y_silver_test = split_data(scaled_data, seq_length)\n",
    "print('x_train.shape = ',x_silver_train.shape)\n",
    "print('y_train.shape = ',y_silver_train.shape)\n",
    "print('x_test.shape = ',x_silver_test.shape)\n",
    "print('y_test.shape = ',y_silver_test.shape)\n",
    "print('X_full.shape = ', x_silver_data.shape)\n",
    "print('y_full.shape = ', y_silver_data.shape)"
   ]
  },
  {
   "cell_type": "code",
   "execution_count": null,
   "id": "ee2f6f0a",
   "metadata": {},
   "outputs": [],
   "source": [
    "x_silver_data[-10:]"
   ]
  },
  {
   "cell_type": "code",
   "execution_count": null,
   "id": "c23beb09",
   "metadata": {},
   "outputs": [],
   "source": [
    "y_silver_data[-10:]"
   ]
  },
  {
   "cell_type": "markdown",
   "id": "639ee623",
   "metadata": {},
   "source": [
    "- The test data has the last 20% of the data, and the y array has the target values.\n",
    "- Here we can see the comparison with the original data and the last values of y\n",
    "- The difference is we filled with values for the 25 of feb"
   ]
  },
  {
   "cell_type": "code",
   "execution_count": null,
   "id": "1df7826f",
   "metadata": {},
   "outputs": [],
   "source": [
    "silver.head(), print(scaler.inverse_transform(y_silver_test[:-1][-4:]))"
   ]
  },
  {
   "cell_type": "markdown",
   "id": "a8f4af83",
   "metadata": {},
   "source": [
    "# GRU (gated recurrent unit) & LSTM (long short term memory)\n",
    "- GRUs or LSTMs (long short term memory) have been used to solve time series problems.\n",
    "- GRU: \n",
    "\n",
    "https://pytorch.org/docs/stable/generated/torch.nn.GRU.html?highlight=gru#torch.nn.GRU\n",
    "\n",
    "https://pytorch.org/docs/stable/generated/torch.nn.LSTM.html#torch.nn.LSTM\n",
    "\n",
    "https://arxiv.org/pdf/1412.3555.pdf\n",
    "- LSTM: \n",
    "\n",
    "https://pytorch.org/docs/stable/generated/torch.nn.LSTM.html"
   ]
  },
  {
   "cell_type": "code",
   "execution_count": null,
   "id": "dab63e78",
   "metadata": {},
   "outputs": [],
   "source": [
    "x_silver_train = torch.from_numpy(x_silver_train).type(torch.Tensor)\n",
    "x_silver_test = torch.from_numpy(x_silver_test).type(torch.Tensor)\n",
    "\n",
    "y_silver_train_lstm = torch.from_numpy(y_silver_train).type(torch.Tensor)\n",
    "y_silver_test_lstm = torch.from_numpy(y_silver_test).type(torch.Tensor)\n",
    "\n",
    "y_silver_train_gru = torch.from_numpy(y_silver_train).type(torch.Tensor)\n",
    "y_silver_test_gru = torch.from_numpy(y_silver_test).type(torch.Tensor)\n",
    "\n",
    "### FULL\n",
    "x_silver_data = torch.from_numpy(x_silver_data).type(torch.Tensor)\n",
    "y_silver_data = torch.from_numpy(y_silver_data).type(torch.Tensor)"
   ]
  },
  {
   "cell_type": "code",
   "execution_count": null,
   "id": "09eaa511",
   "metadata": {},
   "outputs": [],
   "source": [
    "#Setup\n",
    "device = \"cuda\" if torch.cuda.is_available() else \"cpu\"\n",
    "\n",
    "# Define hyperparameters\n",
    "input_size = 1\n",
    "num_layers= 2\n",
    "hidden_size = 16\n",
    "output_size = 1\n",
    "num_epochs = 50 # The model learns fast enough\n",
    "learning_rate = 0.01\n",
    "\n",
    "print(device)"
   ]
  },
  {
   "cell_type": "code",
   "execution_count": null,
   "id": "03d71683",
   "metadata": {},
   "outputs": [],
   "source": [
    "class GRU(nn.Module):\n",
    "    def __init__(self, input_dim, hidden_dim, num_layers, output_dim):\n",
    "        super(GRU, self).__init__()\n",
    "        self.hidden_dim = hidden_dim\n",
    "        self.num_layers = num_layers\n",
    "        \n",
    "        self.gru = nn.GRU(input_dim, hidden_dim, num_layers, batch_first=True)\n",
    "        self.fc = nn.Linear(hidden_dim, output_dim)\n",
    "\n",
    "    def forward(self, x):\n",
    "        h0 = torch.zeros(self.num_layers, x.size(0), self.hidden_dim).requires_grad_()\n",
    "        out, (hn) = self.gru(x, (h0.detach()))\n",
    "        out = self.fc(out[:, -1, :]) \n",
    "        return out"
   ]
  },
  {
   "cell_type": "code",
   "execution_count": null,
   "id": "80d6ac64",
   "metadata": {},
   "outputs": [],
   "source": [
    "class LSTM(nn.Module):\n",
    "    def __init__(self, input_dim, hidden_dim, num_layers, output_dim, dropout_prob=0.2):\n",
    "        super(LSTM, self).__init__()\n",
    "        self.hidden_dim = hidden_dim\n",
    "        self.num_layers = num_layers\n",
    "        self.dropout = nn.Dropout(dropout_prob)\n",
    "        self.lstm = nn.LSTM(input_dim, hidden_dim, num_layers, batch_first=True)\n",
    "        self.fc = nn.Linear(hidden_dim, output_dim)\n",
    "        self.relu = nn.ReLU()\n",
    "\n",
    "    def forward(self, x):\n",
    "        h0 = torch.zeros(self.num_layers, x.size(0), self.hidden_dim).requires_grad_()\n",
    "        c0 = torch.zeros(self.num_layers, x.size(0), self.hidden_dim).requires_grad_()\n",
    "        out, (hn, cn) = self.lstm(x, (h0.detach(), c0.detach()))\n",
    "        out = self.fc(out[:, -1, :]) \n",
    "        return out"
   ]
  },
  {
   "cell_type": "code",
   "execution_count": null,
   "id": "e114f53b",
   "metadata": {},
   "outputs": [],
   "source": [
    "silver_model_gru = GRU(input_size, hidden_size, num_layers, output_size)\n",
    "silver_model_gru"
   ]
  },
  {
   "cell_type": "code",
   "execution_count": null,
   "id": "a2b83852",
   "metadata": {},
   "outputs": [],
   "source": [
    "silver_model_lstm = LSTM(input_size, hidden_size, num_layers, output_size)\n",
    "silver_model_lstm\n"
   ]
  },
  {
   "cell_type": "code",
   "execution_count": null,
   "id": "29fb3279",
   "metadata": {},
   "outputs": [],
   "source": [
    "# Setup loss function and optimizer\n",
    "loss_fn = nn.MSELoss(reduction='mean')\n",
    "optimizer_gru = torch.optim.Adam(silver_model_gru.parameters(), \n",
    "                             lr=learning_rate)\n",
    "optimizer_lstm = torch.optim.Adam(silver_model_lstm.parameters(), \n",
    "                             lr=learning_rate)"
   ]
  },
  {
   "cell_type": "code",
   "execution_count": null,
   "id": "0db32dae",
   "metadata": {
    "scrolled": true
   },
   "outputs": [],
   "source": [
    "# Training LSTM\n",
    "hist = np.zeros(num_epochs)\n",
    "hist_test = np.zeros(num_epochs)\n",
    "\n",
    "start_time = time.time()\n",
    "\n",
    "for epoch in range(num_epochs):\n",
    "    #Train\n",
    "    silver_model_lstm.train()\n",
    "    \n",
    "    # Forward pass\n",
    "    y_train_pred_lstm = silver_model_lstm(x_silver_train)\n",
    "\n",
    "    # Calculate the loss\n",
    "    loss = loss_fn(y_train_pred_lstm, y_silver_train_lstm)\n",
    "    hist[epoch] = loss.item()\n",
    "\n",
    "    # Optimizer zero grad\n",
    "    optimizer_lstm.zero_grad()\n",
    "    \n",
    "    # Loss backward\n",
    "    loss.backward()\n",
    "    \n",
    "    # Step the optimizer\n",
    "    optimizer_lstm.step()\n",
    "    \n",
    "    # Test\n",
    "    silver_model_lstm.eval()\n",
    "\n",
    "    with torch.inference_mode():\n",
    "        y_test_pred_lstm = silver_model_lstm(x_silver_test)\n",
    "        test_loss = loss_fn(y_test_pred_lstm, y_silver_test_lstm)\n",
    "        hist_test[epoch] = test_loss.item()\n",
    "\n",
    "    if epoch % 10 == 0:\n",
    "        print(\"Epoch \", epoch, \n",
    "              f\"MSE: {loss.item():.5f}\", \n",
    "              f\"Test MSE: {test_loss.item():.5}\"\n",
    "             )\n",
    "    \n",
    "training_time = time.time()-start_time\n",
    "print(\"Training time: {}\".format(training_time))"
   ]
  },
  {
   "cell_type": "code",
   "execution_count": null,
   "id": "4f14dcdf",
   "metadata": {},
   "outputs": [],
   "source": [
    "predict = pd.DataFrame(scaler.inverse_transform(y_train_pred_lstm.detach().numpy()))\n",
    "original = pd.DataFrame(scaler.inverse_transform(y_silver_train_lstm.detach().numpy()))\n",
    "predict_test = pd.DataFrame(scaler.inverse_transform(y_test_pred_lstm.detach().numpy()))\n",
    "original_test = pd.DataFrame(scaler.inverse_transform(y_silver_test_lstm.detach().numpy()))"
   ]
  },
  {
   "cell_type": "code",
   "execution_count": null,
   "id": "4a0f4de6",
   "metadata": {
    "scrolled": true
   },
   "outputs": [],
   "source": [
    "fig = plt.figure()\n",
    "fig.subplots_adjust(hspace=0.2, wspace=0.2)\n",
    "\n",
    "plt.subplot(1, 3, 1)\n",
    "ax = sns.lineplot(x = original.index, y = original[0], label=\"Data\", color='royalblue')\n",
    "ax = sns.lineplot(x = predict.index, y = predict[0], label=\"Training Prediction (LSTM)\", color='tomato')\n",
    "ax.set_title('Stock price', size = 14, fontweight='bold')\n",
    "ax.set_xlabel(\"Days\", size = 14)\n",
    "ax.set_ylabel(\"Cost (USD)\", size = 14)\n",
    "ax.set_xticklabels('', size=10)\n",
    "\n",
    "plt.subplot(1, 3, 2)\n",
    "ax = sns.lineplot(x = predict_test.index, y = predict_test[0], label=\"Test Data\", color='royalblue')\n",
    "ax = sns.lineplot(x = original_test.index, y = original_test[0], label=\"Test Prediction (LSTM)\", color='tomato')\n",
    "ax.set_title('Silver price Test', size = 14, fontweight='bold')\n",
    "ax.set_xlabel(\"Days\", size = 14)\n",
    "ax.set_ylabel(\"Cost (USD)\", size = 14)\n",
    "ax.set_xticklabels('', size=10)\n",
    "\n",
    "plt.subplot(1, 3, 3)\n",
    "ax = sns.lineplot(data=hist, color='royalblue')\n",
    "ax.set_xlabel(\"Epoch\", size = 14)\n",
    "ax.set_ylabel(\"Loss\", size = 14)\n",
    "ax.set_title(\"Training Loss\", size = 14, fontweight='bold')\n",
    "fig.set_figheight(6)\n",
    "fig.set_figwidth(16)"
   ]
  },
  {
   "cell_type": "code",
   "execution_count": null,
   "id": "bac1d39b",
   "metadata": {},
   "outputs": [],
   "source": [
    "hist_gru = np.zeros(num_epochs)\n",
    "hist_gru_test = np.zeros(num_epochs)\n",
    "\n",
    "start_time = time.time()\n",
    "\n",
    "for epoch in range(num_epochs):\n",
    "    #Train\n",
    "    silver_model_gru.train()\n",
    "    \n",
    "    # Forward pass\n",
    "    y_train_pred_gru = silver_model_gru(x_silver_train)\n",
    "\n",
    "    # Calculate the loss\n",
    "    loss = loss_fn(y_train_pred_gru, y_silver_train_gru)\n",
    "    hist_gru[epoch] = loss.item()\n",
    "\n",
    "    # Optimizer zero grad\n",
    "    optimizer_gru.zero_grad()\n",
    "    \n",
    "    # Loss backward\n",
    "    loss.backward()\n",
    "    \n",
    "    # Step the optimizer\n",
    "    optimizer_gru.step()\n",
    "    \n",
    "    # Test\n",
    "    silver_model_gru.eval()\n",
    "\n",
    "    with torch.inference_mode():\n",
    "        y_test_pred_gru = silver_model_gru(x_silver_test)\n",
    "        test_loss = loss_fn(y_test_pred_gru, y_silver_test_gru)\n",
    "        hist_gru_test[epoch] = test_loss.item()\n",
    "\n",
    "    if epoch % 10 == 0:\n",
    "        print(\"Epoch \", epoch, \n",
    "              f\"MSE: {loss.item():.5f}\", \n",
    "              f\"Test MSE: {test_loss.item():.5}\")\n",
    "    \n",
    "training_time = time.time()-start_time\n",
    "print(\"Training time: {}\".format(training_time))"
   ]
  },
  {
   "cell_type": "code",
   "execution_count": null,
   "id": "22d132b8",
   "metadata": {},
   "outputs": [],
   "source": [
    "original_gru = pd.DataFrame(scaler.inverse_transform(y_silver_train_gru.detach().numpy()))\n",
    "predict_gru = pd.DataFrame(scaler.inverse_transform(y_train_pred_gru.detach().numpy()))\n",
    "original_gru_test = pd.DataFrame(scaler.inverse_transform(y_silver_test_gru.detach().numpy()))\n",
    "predict_gru_test = pd.DataFrame(scaler.inverse_transform(y_test_pred_gru.detach().numpy()))"
   ]
  },
  {
   "cell_type": "code",
   "execution_count": null,
   "id": "f3cc0643",
   "metadata": {},
   "outputs": [],
   "source": [
    "fig = plt.figure()\n",
    "fig.subplots_adjust(hspace=0.2, wspace=0.2)\n",
    "\n",
    "plt.subplot(1, 3, 1)\n",
    "ax = sns.lineplot(x = original_gru.index, y = original_gru[0], label=\"Data\", color='royalblue')\n",
    "ax = sns.lineplot(x = predict_gru.index, y = predict_gru[0], label=\"Training Prediction (GRU)\", color='tomato')\n",
    "ax.set_title('Silver price Train', size = 14, fontweight='bold')\n",
    "ax.set_xlabel(\"Days\", size = 14)\n",
    "ax.set_ylabel(\"Cost (USD)\", size = 14)\n",
    "ax.set_xticklabels('', size=10)\n",
    "\n",
    "plt.subplot(1, 3, 2)\n",
    "ax = sns.lineplot(x = original_gru_test.index, y = original_gru_test[0], label=\"Test Data\", color='royalblue')\n",
    "ax = sns.lineplot(x = predict_gru_test.index, y = predict_gru_test[0], label=\"Test Prediction (GRU)\", color='tomato')\n",
    "ax.set_title('Silver price Test', size = 14, fontweight='bold')\n",
    "ax.set_xlabel(\"Days\", size = 14)\n",
    "ax.set_ylabel(\"Cost (USD)\", size = 14)\n",
    "ax.set_xticklabels('', size=10)\n",
    "\n",
    "plt.subplot(1, 3, 3)\n",
    "ax = sns.lineplot(data=hist_gru[:10], label=\"Loss\", color='royalblue')\n",
    "ax.set_xlabel(\"Epoch\", size = 14)\n",
    "ax.set_ylabel(\"Loss\", size = 14)\n",
    "ax.set_title(\"Training Loss\", size = 14, fontweight='bold')\n",
    "fig.set_figheight(6)\n",
    "fig.set_figwidth(16)"
   ]
  },
  {
   "cell_type": "markdown",
   "id": "82f3c95d",
   "metadata": {},
   "source": [
    "* So now we've proven the models are learning from the data, but we need to evaluate if the model can predict unseen data."
   ]
  },
  {
   "cell_type": "code",
   "execution_count": null,
   "id": "81f6ce04",
   "metadata": {},
   "outputs": [],
   "source": [
    "x_test = x_silver_data"
   ]
  },
  {
   "cell_type": "code",
   "execution_count": null,
   "id": "590bc854",
   "metadata": {},
   "outputs": [],
   "source": [
    "# Evaluate prediction\n",
    "\n",
    "# 1 Day in the future\n",
    "\n",
    "# Prediction based on the last 30 days\n",
    "silver_model_lstm.eval()\n",
    "with torch.no_grad():\n",
    "  y_preds = silver_model_lstm(x_test[-1:])\n",
    "\n",
    "# Put the predicted value on top and delete the last\n",
    "future = torch.cat((x_test[-1:], y_preds[-1:].unsqueeze(dim=1)), 1)\n",
    "future = future[:,1:,:]\n",
    "x_test = torch.cat((x_test, future), 0)\n",
    "\n",
    "print(\"Predicted Value: \", scaler.inverse_transform(y_preds[-1:].detach().numpy()))"
   ]
  },
  {
   "cell_type": "markdown",
   "id": "522fed12",
   "metadata": {},
   "source": [
    "- How to make future predictions. The plan is to predict y using the las X values from Feb 28 of 2023\n",
    "- and then add the prediction on the 30 values array where I would put it as if it were the"
   ]
  },
  {
   "cell_type": "code",
   "execution_count": null,
   "id": "6504c2af",
   "metadata": {},
   "outputs": [],
   "source": [
    "# This will take the d-1 last days an produce the prediction for the dth day\n",
    "# We will remove the last value of the d-1 days, and concatenate on top the dth predicted day\n",
    "# And we will predict the next based on the new prediction\n",
    "def futurePredictions(x_raw_data, n_preds, model):\n",
    "    start_time = time.time()\n",
    "    predictions = []\n",
    "    x_data = x_raw_data\n",
    "    \n",
    "    model.eval()\n",
    "    for i in range(n_preds):\n",
    "        with torch.no_grad():\n",
    "            y_preds = model(x_data)\n",
    "        predictions.append(y_preds.item())\n",
    "        x_data = torch.cat(\n",
    "            (x_data[:,1:,:], # Removes oldest day from the last batch (1, d-1, 1)\n",
    "             y_preds[-1:].unsqueeze(dim=1)), 1) # Inserts prediction unsqueezed (1, 1) -> (1, 1, 1)        \n",
    "    training_time = time.time()-start_time\n",
    "    print(\"Training time: {}\".format(training_time))\n",
    "    return predictions\n",
    "\n",
    "# Instead of using just the last batch of days, it uses a set of batches of dates\n",
    "def futurePredictionsBatch(x_raw_data, n_preds, model):\n",
    "    start_time = time.time()\n",
    "    predictions = []\n",
    "    x_data = x_raw_data\n",
    "    \n",
    "    model.eval()\n",
    "    for i in range(n_preds):\n",
    "        with torch.no_grad():\n",
    "            y_preds = model(x_data)\n",
    "        predictions.append(y_preds[-1:].item())\n",
    "        x_data = torch.cat(\n",
    "            (x_data[-1:,1:,:], # Removes oldest day from the last batch from the set of batches (1, d-1, 1)\n",
    "             y_preds[-1:].unsqueeze(dim=1)), 1) # Inserts prediction unsqueezed (1, 1) -> (1, 1, 1)        \n",
    "    training_time = time.time()-start_time\n",
    "    print(\"Training time: {}\".format(training_time))\n",
    "    return predictions"
   ]
  },
  {
   "cell_type": "code",
   "execution_count": null,
   "id": "446a8af5",
   "metadata": {},
   "outputs": [],
   "source": [
    "days_in_the_future = 128"
   ]
  },
  {
   "cell_type": "code",
   "execution_count": null,
   "id": "2e351873",
   "metadata": {},
   "outputs": [],
   "source": [
    "lstm_preds = futurePredictions(x_silver_data[-1:], days_in_the_future, silver_model_lstm)"
   ]
  },
  {
   "cell_type": "code",
   "execution_count": null,
   "id": "f2fcef43",
   "metadata": {},
   "outputs": [],
   "source": [
    "results_lstm = torch.tensor(np.array(lstm_preds)).float().unsqueeze(dim=1)\n",
    "scaler.inverse_transform(results_lstm.detach().numpy());"
   ]
  },
  {
   "cell_type": "code",
   "execution_count": null,
   "id": "9a149d0d",
   "metadata": {},
   "outputs": [],
   "source": [
    "gru_preds = futurePredictions(x_silver_data[-1:], days_in_the_future, silver_model_gru)"
   ]
  },
  {
   "cell_type": "code",
   "execution_count": null,
   "id": "15efb2c3",
   "metadata": {},
   "outputs": [],
   "source": [
    "results_gru = torch.tensor(np.array(gru_preds)).float().unsqueeze(dim=1)\n",
    "scaler.inverse_transform(results_gru.detach().numpy());"
   ]
  },
  {
   "cell_type": "code",
   "execution_count": null,
   "id": "1ebe8313",
   "metadata": {},
   "outputs": [],
   "source": [
    "#results = np.concatenate((np.expand_dims(np.zeros(len(y_silver_test_lstm)), axis=1), results.detach().numpy()))\n",
    "target_preds = results_gru\n",
    "\n",
    "past_data = pd.DataFrame(scaler.inverse_transform(y_silver_data.detach().numpy()))\n",
    "predicted_data = pd.DataFrame(scaler.inverse_transform(target_preds))\n",
    "\n",
    "fulld = np.concatenate((y_silver_data, target_preds))\n",
    "full_data = pd.DataFrame(scaler.inverse_transform(fulld[-1000:]))"
   ]
  },
  {
   "cell_type": "code",
   "execution_count": null,
   "id": "fcdd1083",
   "metadata": {},
   "outputs": [],
   "source": [
    "fig = plt.figure()\n",
    "fig.subplots_adjust(hspace=0.2, wspace=0.2)\n",
    "\n",
    "plt.subplot(1, 1, 1)\n",
    "ax = sns.lineplot(x = predicted_data.index, y = predicted_data[0], label=\"Future\", color='tomato')\n",
    "ax.set_title('Silver price Forecast', size = 14, fontweight='bold')\n",
    "ax.set_xlabel(\"Days\", size = 14)\n",
    "ax.set_ylabel(\"Cost (USD)\", size = 14)\n",
    "\n",
    "ax.set_xticklabels('', size=10);"
   ]
  },
  {
   "cell_type": "code",
   "execution_count": null,
   "id": "542e5b4a",
   "metadata": {},
   "outputs": [],
   "source": [
    "target_preds = results_lstm\n",
    "\n",
    "past_data = pd.DataFrame(scaler.inverse_transform(y_silver_data.detach().numpy()))\n",
    "predicted_data = pd.DataFrame(scaler.inverse_transform(target_preds))\n",
    "\n",
    "fulld = np.concatenate((y_silver_data, target_preds))\n",
    "full_data = pd.DataFrame(scaler.inverse_transform(fulld[-1000:]))"
   ]
  },
  {
   "cell_type": "code",
   "execution_count": null,
   "id": "1f910367",
   "metadata": {},
   "outputs": [],
   "source": [
    "fig = plt.figure()\n",
    "fig.subplots_adjust(hspace=0.2, wspace=0.2)\n",
    "\n",
    "plt.subplot(1, 1, 1)\n",
    "ax = sns.lineplot(x = predicted_data.index, y = predicted_data[0], label=\"Future\", color='tomato')\n",
    "ax.set_title('Silver price Forecast', size = 14, fontweight='bold')\n",
    "ax.set_xlabel(\"Days\", size = 14)\n",
    "ax.set_ylabel(\"Cost (USD)\", size = 14)\n",
    "\n",
    "ax.set_xticklabels('', size=10);"
   ]
  },
  {
   "cell_type": "markdown",
   "id": "86545ead",
   "metadata": {},
   "source": [
    "- Last day of the prediction was Feb 28 of 2023,"
   ]
  },
  {
   "cell_type": "markdown",
   "id": "e9831d5d",
   "metadata": {},
   "source": [
    "### Palladium and Platinum are missing a lot of volume data to be filled, so I will probably ignore volume and try three experiments\n",
    " * Train using only Silver, Gold, Copper data.\n",
    " * Train using all, without Volume data.\n",
    " * Train using Silver, Gold, Copper, with full data, but also add Palladium and Platinum without Volume data."
   ]
  }
 ],
 "metadata": {
  "kernelspec": {
   "display_name": "Python 3 (ipykernel)",
   "language": "python",
   "name": "python3"
  },
  "language_info": {
   "codemirror_mode": {
    "name": "ipython",
    "version": 3
   },
   "file_extension": ".py",
   "mimetype": "text/x-python",
   "name": "python",
   "nbconvert_exporter": "python",
   "pygments_lexer": "ipython3",
   "version": "3.8.16"
  }
 },
 "nbformat": 4,
 "nbformat_minor": 5
}
